{
 "cells": [
  {
   "cell_type": "code",
   "execution_count": 3,
   "metadata": {},
   "outputs": [],
   "source": [
    "import pandas as pd \n",
    "import numpy as np \n",
    "import json \n",
    "from ast import literal_eval\n",
    "import warnings\n",
    "warnings.filterwarnings('ignore', category=DeprecationWarning)\n",
    "warnings.filterwarnings('ignore', category=FutureWarning)\n",
    "pd.set_option('display.max_columns', 5)\n",
    "pd.set_option('display.max_colwidth', 20)\n",
    "import itertools\n",
    "import matplotlib.pyplot as plt\n",
    "import seaborn as sns\n",
    "from sklearn.feature_extraction.text import CountVectorizer\n",
    "from sklearn.decomposition import LatentDirichletAllocation\n",
    "\n"
   ]
  },
  {
   "attachments": {},
   "cell_type": "markdown",
   "metadata": {},
   "source": [
    "# 1. Data Cleaning"
   ]
  },
  {
   "attachments": {},
   "cell_type": "markdown",
   "metadata": {},
   "source": [
    "## 1-1 Data Import and Initial Exploration"
   ]
  },
  {
   "cell_type": "code",
   "execution_count": 4,
   "metadata": {},
   "outputs": [],
   "source": [
    "# import data\n",
    "df = pd.read_csv('resume_no_job_description.csv')\n",
    "df2 = pd.read_csv('resume_with_job_description.csv')"
   ]
  },
  {
   "cell_type": "code",
   "execution_count": 5,
   "metadata": {},
   "outputs": [
    {
     "data": {
      "text/html": [
       "<div>\n",
       "<style scoped>\n",
       "    .dataframe tbody tr th:only-of-type {\n",
       "        vertical-align: middle;\n",
       "    }\n",
       "\n",
       "    .dataframe tbody tr th {\n",
       "        vertical-align: top;\n",
       "    }\n",
       "\n",
       "    .dataframe thead th {\n",
       "        text-align: right;\n",
       "    }\n",
       "</style>\n",
       "<table border=\"1\" class=\"dataframe\">\n",
       "  <thead>\n",
       "    <tr style=\"text-align: right;\">\n",
       "      <th></th>\n",
       "      <th>id</th>\n",
       "      <th>content</th>\n",
       "    </tr>\n",
       "  </thead>\n",
       "  <tbody>\n",
       "    <tr>\n",
       "      <th>0</th>\n",
       "      <td>clezbskz2000ryi2...</td>\n",
       "      <td>{\"awards\": {\"awa...</td>\n",
       "    </tr>\n",
       "    <tr>\n",
       "      <th>1</th>\n",
       "      <td>clezeac8k001myg2...</td>\n",
       "      <td>{\"awards\": {\"awa...</td>\n",
       "    </tr>\n",
       "    <tr>\n",
       "      <th>2</th>\n",
       "      <td>clezh9pxu0185yp2...</td>\n",
       "      <td>{\"awards\": {\"awa...</td>\n",
       "    </tr>\n",
       "    <tr>\n",
       "      <th>3</th>\n",
       "      <td>clf06bf5b014dx22...</td>\n",
       "      <td>{\"awards\": {\"awa...</td>\n",
       "    </tr>\n",
       "    <tr>\n",
       "      <th>4</th>\n",
       "      <td>clezdavhy000eyg2...</td>\n",
       "      <td>{\"awards\": {\"awa...</td>\n",
       "    </tr>\n",
       "  </tbody>\n",
       "</table>\n",
       "</div>"
      ],
      "text/plain": [
       "                    id              content\n",
       "0  clezbskz2000ryi2...  {\"awards\": {\"awa...\n",
       "1  clezeac8k001myg2...  {\"awards\": {\"awa...\n",
       "2  clezh9pxu0185yp2...  {\"awards\": {\"awa...\n",
       "3  clf06bf5b014dx22...  {\"awards\": {\"awa...\n",
       "4  clezdavhy000eyg2...  {\"awards\": {\"awa..."
      ]
     },
     "execution_count": 5,
     "metadata": {},
     "output_type": "execute_result"
    }
   ],
   "source": [
    "df.head()"
   ]
  },
  {
   "cell_type": "code",
   "execution_count": 6,
   "metadata": {},
   "outputs": [
    {
     "data": {
      "text/html": [
       "<div>\n",
       "<style scoped>\n",
       "    .dataframe tbody tr th:only-of-type {\n",
       "        vertical-align: middle;\n",
       "    }\n",
       "\n",
       "    .dataframe tbody tr th {\n",
       "        vertical-align: top;\n",
       "    }\n",
       "\n",
       "    .dataframe thead th {\n",
       "        text-align: right;\n",
       "    }\n",
       "</style>\n",
       "<table border=\"1\" class=\"dataframe\">\n",
       "  <thead>\n",
       "    <tr style=\"text-align: right;\">\n",
       "      <th></th>\n",
       "      <th>id</th>\n",
       "      <th>content</th>\n",
       "      <th>jobDescription</th>\n",
       "    </tr>\n",
       "  </thead>\n",
       "  <tbody>\n",
       "    <tr>\n",
       "      <th>0</th>\n",
       "      <td>clg43d9an007gx02...</td>\n",
       "      <td>{\"awards\": {\"awa...</td>\n",
       "      <td>Job Posting:\\nDo...</td>\n",
       "    </tr>\n",
       "    <tr>\n",
       "      <th>1</th>\n",
       "      <td>clg3itetj006jx92...</td>\n",
       "      <td>{\"awards\": {\"awa...</td>\n",
       "      <td>Tasks:\\n\\nCreati...</td>\n",
       "    </tr>\n",
       "    <tr>\n",
       "      <th>2</th>\n",
       "      <td>clg3iy1sd007rx32...</td>\n",
       "      <td>{\"awards\": {\"awa...</td>\n",
       "      <td>Responsibilities...</td>\n",
       "    </tr>\n",
       "    <tr>\n",
       "      <th>3</th>\n",
       "      <td>clg5j15lz00k3x02...</td>\n",
       "      <td>{\"awards\": {\"awa...</td>\n",
       "      <td>What is Talentpo...</td>\n",
       "    </tr>\n",
       "    <tr>\n",
       "      <th>4</th>\n",
       "      <td>clg43pte600ddya2...</td>\n",
       "      <td>{\"awards\": {\"awa...</td>\n",
       "      <td>Hyperproof is hi...</td>\n",
       "    </tr>\n",
       "  </tbody>\n",
       "</table>\n",
       "</div>"
      ],
      "text/plain": [
       "                    id              content       jobDescription\n",
       "0  clg43d9an007gx02...  {\"awards\": {\"awa...  Job Posting:\\nDo...\n",
       "1  clg3itetj006jx92...  {\"awards\": {\"awa...  Tasks:\\n\\nCreati...\n",
       "2  clg3iy1sd007rx32...  {\"awards\": {\"awa...  Responsibilities...\n",
       "3  clg5j15lz00k3x02...  {\"awards\": {\"awa...  What is Talentpo...\n",
       "4  clg43pte600ddya2...  {\"awards\": {\"awa...  Hyperproof is hi..."
      ]
     },
     "execution_count": 6,
     "metadata": {},
     "output_type": "execute_result"
    }
   ],
   "source": [
    "df2.head()"
   ]
  },
  {
   "cell_type": "code",
   "execution_count": 7,
   "metadata": {},
   "outputs": [
    {
     "name": "stdout",
     "output_type": "stream",
     "text": [
      "Number of unique IDs in DF: 13198\n",
      "Number of unique IDs in DF2: 11976\n"
     ]
    }
   ],
   "source": [
    "print(\"Number of unique IDs in DF:\", df['id'].nunique())\n",
    "print(\"Number of unique IDs in DF2:\", df2['id'].nunique())"
   ]
  },
  {
   "attachments": {},
   "cell_type": "markdown",
   "metadata": {},
   "source": [
    "- ID values in DF1 and DF2 are all unique, which means **no users use CoverQuick more than once** or they **use different IDs each time**."
   ]
  },
  {
   "cell_type": "code",
   "execution_count": 8,
   "metadata": {},
   "outputs": [
    {
     "name": "stdout",
     "output_type": "stream",
     "text": [
      "Number of common IDs: 0\n"
     ]
    }
   ],
   "source": [
    "common_ids = set(df['id']).intersection(set(df2['id']))\n",
    "print(\"Number of common IDs:\",len(common_ids))"
   ]
  },
  {
   "attachments": {},
   "cell_type": "markdown",
   "metadata": {},
   "source": [
    "- IDs in DF1 and DF2 do not have any intersections, which means **no users use both the non-jd version and the jd version of Coverquick** or they **use different IDs**"
   ]
  },
  {
   "cell_type": "code",
   "execution_count": 9,
   "metadata": {},
   "outputs": [],
   "source": [
    "df = df.drop('id', axis=1)\n",
    "df2 = df2.drop('id', axis=1)"
   ]
  },
  {
   "attachments": {},
   "cell_type": "markdown",
   "metadata": {},
   "source": [
    "- id columns are dropped in both df and df2"
   ]
  },
  {
   "attachments": {},
   "cell_type": "markdown",
   "metadata": {},
   "source": [
    "## 1-2 Data Cleaning :JSON Flattening "
   ]
  },
  {
   "attachments": {},
   "cell_type": "markdown",
   "metadata": {},
   "source": [
    "### 1-2-1Flattening First-layer Objects(Step 1)"
   ]
  },
  {
   "attachments": {},
   "cell_type": "markdown",
   "metadata": {},
   "source": [
    "#### 1-2-1-1 Flattening First-layer Objects(\"Resume with No Descriptions\")"
   ]
  },
  {
   "cell_type": "code",
   "execution_count": 10,
   "metadata": {},
   "outputs": [],
   "source": [
    "# Convert the JSON-formatted content strings to Python dictionaries\n",
    "df['content']= df['content'].apply(json.loads)"
   ]
  },
  {
   "cell_type": "code",
   "execution_count": 11,
   "metadata": {},
   "outputs": [],
   "source": [
    "# Flatten the first-layer JSON objects\n",
    "d = pd.json_normalize(df['content'],sep='_', # nested keys separated by _\n",
    "                      errors='ignore' # in case there are empty values\n",
    "                      )"
   ]
  },
  {
   "cell_type": "code",
   "execution_count": 12,
   "metadata": {},
   "outputs": [
    {
     "data": {
      "text/html": [
       "<div>\n",
       "<style scoped>\n",
       "    .dataframe tbody tr th:only-of-type {\n",
       "        vertical-align: middle;\n",
       "    }\n",
       "\n",
       "    .dataframe tbody tr th {\n",
       "        vertical-align: top;\n",
       "    }\n",
       "\n",
       "    .dataframe thead th {\n",
       "        text-align: right;\n",
       "    }\n",
       "</style>\n",
       "<table border=\"1\" class=\"dataframe\">\n",
       "  <thead>\n",
       "    <tr style=\"text-align: right;\">\n",
       "      <th></th>\n",
       "      <th>awards_awards</th>\n",
       "      <th>header_role</th>\n",
       "      <th>...</th>\n",
       "      <th>accomplishments_text</th>\n",
       "      <th>accomplishments_visible</th>\n",
       "    </tr>\n",
       "  </thead>\n",
       "  <tbody>\n",
       "    <tr>\n",
       "      <th>0</th>\n",
       "      <td>[]</td>\n",
       "      <td></td>\n",
       "      <td>...</td>\n",
       "      <td></td>\n",
       "      <td>True</td>\n",
       "    </tr>\n",
       "    <tr>\n",
       "      <th>1</th>\n",
       "      <td>[]</td>\n",
       "      <td></td>\n",
       "      <td>...</td>\n",
       "      <td></td>\n",
       "      <td>True</td>\n",
       "    </tr>\n",
       "    <tr>\n",
       "      <th>2</th>\n",
       "      <td>[]</td>\n",
       "      <td></td>\n",
       "      <td>...</td>\n",
       "      <td></td>\n",
       "      <td>True</td>\n",
       "    </tr>\n",
       "    <tr>\n",
       "      <th>3</th>\n",
       "      <td>[]</td>\n",
       "      <td></td>\n",
       "      <td>...</td>\n",
       "      <td></td>\n",
       "      <td>True</td>\n",
       "    </tr>\n",
       "    <tr>\n",
       "      <th>4</th>\n",
       "      <td>[]</td>\n",
       "      <td></td>\n",
       "      <td>...</td>\n",
       "      <td></td>\n",
       "      <td>True</td>\n",
       "    </tr>\n",
       "  </tbody>\n",
       "</table>\n",
       "<p>5 rows × 17 columns</p>\n",
       "</div>"
      ],
      "text/plain": [
       "  awards_awards header_role  ... accomplishments_text accomplishments_visible\n",
       "0            []              ...                                      True   \n",
       "1            []              ...                                      True   \n",
       "2            []              ...                                      True   \n",
       "3            []              ...                                      True   \n",
       "4            []              ...                                      True   \n",
       "\n",
       "[5 rows x 17 columns]"
      ]
     },
     "execution_count": 12,
     "metadata": {},
     "output_type": "execute_result"
    }
   ],
   "source": [
    "d.head()"
   ]
  },
  {
   "attachments": {},
   "cell_type": "markdown",
   "metadata": {},
   "source": [
    "After flattening, we've got **columns containing strings** and **columns containing lists of nested objects(\"[]\")**. "
   ]
  },
  {
   "cell_type": "code",
   "execution_count": 13,
   "metadata": {},
   "outputs": [],
   "source": [
    "d = d.drop(['header_role'], axis=1)"
   ]
  },
  {
   "attachments": {},
   "cell_type": "markdown",
   "metadata": {},
   "source": [
    "\"head_role\" does not contain any values, so we dropped it."
   ]
  },
  {
   "cell_type": "code",
   "execution_count": 14,
   "metadata": {},
   "outputs": [],
   "source": [
    "# Rename the columns for easier reference\n",
    "d.rename(columns={'awards_awards':'awards','header_contact_city': 'city', 'header_contact_state': 'state', 'skills_skills': 'skills',\n",
    "                              'header_contact_country':'country','projects_projects':'project','volunteer_volunteer':'volunteer','experience_experience':'experience',\n",
    "                              'references_references':'references','publications_publications':'publications','certifications_certifications':'certifications',\n",
    "                              'education_education':'education'}, inplace=True)"
   ]
  },
  {
   "cell_type": "code",
   "execution_count": 15,
   "metadata": {},
   "outputs": [
    {
     "data": {
      "text/html": [
       "<div>\n",
       "<style scoped>\n",
       "    .dataframe tbody tr th:only-of-type {\n",
       "        vertical-align: middle;\n",
       "    }\n",
       "\n",
       "    .dataframe tbody tr th {\n",
       "        vertical-align: top;\n",
       "    }\n",
       "\n",
       "    .dataframe thead th {\n",
       "        text-align: right;\n",
       "    }\n",
       "</style>\n",
       "<table border=\"1\" class=\"dataframe\">\n",
       "  <thead>\n",
       "    <tr style=\"text-align: right;\">\n",
       "      <th></th>\n",
       "      <th>awards</th>\n",
       "      <th>city</th>\n",
       "      <th>...</th>\n",
       "      <th>accomplishments_text</th>\n",
       "      <th>accomplishments_visible</th>\n",
       "    </tr>\n",
       "  </thead>\n",
       "  <tbody>\n",
       "    <tr>\n",
       "      <th>0</th>\n",
       "      <td>[]</td>\n",
       "      <td>Algiers / Hussei...</td>\n",
       "      <td>...</td>\n",
       "      <td></td>\n",
       "      <td>True</td>\n",
       "    </tr>\n",
       "    <tr>\n",
       "      <th>1</th>\n",
       "      <td>[]</td>\n",
       "      <td>Kisii</td>\n",
       "      <td>...</td>\n",
       "      <td></td>\n",
       "      <td>True</td>\n",
       "    </tr>\n",
       "    <tr>\n",
       "      <th>2</th>\n",
       "      <td>[]</td>\n",
       "      <td>Nairobi</td>\n",
       "      <td>...</td>\n",
       "      <td></td>\n",
       "      <td>True</td>\n",
       "    </tr>\n",
       "    <tr>\n",
       "      <th>3</th>\n",
       "      <td>[]</td>\n",
       "      <td>NAIROBI</td>\n",
       "      <td>...</td>\n",
       "      <td></td>\n",
       "      <td>True</td>\n",
       "    </tr>\n",
       "    <tr>\n",
       "      <th>4</th>\n",
       "      <td>[]</td>\n",
       "      <td>Machakos</td>\n",
       "      <td>...</td>\n",
       "      <td></td>\n",
       "      <td>True</td>\n",
       "    </tr>\n",
       "  </tbody>\n",
       "</table>\n",
       "<p>5 rows × 16 columns</p>\n",
       "</div>"
      ],
      "text/plain": [
       "  awards                 city  ... accomplishments_text  \\\n",
       "0     []  Algiers / Hussei...  ...                        \n",
       "1     []                Kisii  ...                        \n",
       "2     []              Nairobi  ...                        \n",
       "3     []              NAIROBI  ...                        \n",
       "4     []             Machakos  ...                        \n",
       "\n",
       "  accomplishments_visible  \n",
       "0                 True     \n",
       "1                 True     \n",
       "2                 True     \n",
       "3                 True     \n",
       "4                 True     \n",
       "\n",
       "[5 rows x 16 columns]"
      ]
     },
     "execution_count": 15,
     "metadata": {},
     "output_type": "execute_result"
    }
   ],
   "source": [
    "d.head()"
   ]
  },
  {
   "attachments": {},
   "cell_type": "markdown",
   "metadata": {},
   "source": [
    "- **'awards', 'skills','project','education','volunteer','experience','references','publications','certifications'** contains lists of dictionaries. \n",
    "- Within each list of dictionaries, dictionaries **have the same keys**, and the numbers of dictionaries vary"
   ]
  },
  {
   "cell_type": "code",
   "execution_count": 16,
   "metadata": {},
   "outputs": [
    {
     "data": {
      "text/plain": [
       "Index(['awards', 'city', 'state', 'country', 'skills', 'summary_text',\n",
       "       'summary_visible', 'project', 'education', 'volunteer', 'experience',\n",
       "       'references', 'publications', 'certifications', 'accomplishments_text',\n",
       "       'accomplishments_visible'],\n",
       "      dtype='object')"
      ]
     },
     "execution_count": 16,
     "metadata": {},
     "output_type": "execute_result"
    }
   ],
   "source": [
    "d.columns"
   ]
  },
  {
   "cell_type": "code",
   "execution_count": 17,
   "metadata": {},
   "outputs": [],
   "source": [
    "# Export the flattened data to a CSV\n",
    "d.to_csv('resume_no_job_description_stage1.csv', index=False)"
   ]
  },
  {
   "attachments": {},
   "cell_type": "markdown",
   "metadata": {},
   "source": [
    "#### 1-2-1-2 Flattening First-layer Objects(\"Resume with Descriptions\")"
   ]
  },
  {
   "cell_type": "code",
   "execution_count": 18,
   "metadata": {},
   "outputs": [],
   "source": [
    "# Convert the JSON-formatted content strings to Python dictionaries\n",
    "df2['content']= df2['content'].apply(json.loads)"
   ]
  },
  {
   "cell_type": "code",
   "execution_count": 19,
   "metadata": {},
   "outputs": [],
   "source": [
    "# Flatten the nested JSON data in the 'content' column into a flat DataFrame\n",
    "d2 = pd.json_normalize(df2['content'],sep='_',errors='ignore')"
   ]
  },
  {
   "cell_type": "code",
   "execution_count": 20,
   "metadata": {},
   "outputs": [
    {
     "data": {
      "text/html": [
       "<div>\n",
       "<style scoped>\n",
       "    .dataframe tbody tr th:only-of-type {\n",
       "        vertical-align: middle;\n",
       "    }\n",
       "\n",
       "    .dataframe tbody tr th {\n",
       "        vertical-align: top;\n",
       "    }\n",
       "\n",
       "    .dataframe thead th {\n",
       "        text-align: right;\n",
       "    }\n",
       "</style>\n",
       "<table border=\"1\" class=\"dataframe\">\n",
       "  <thead>\n",
       "    <tr style=\"text-align: right;\">\n",
       "      <th></th>\n",
       "      <th>keywords</th>\n",
       "      <th>suggestedSkills</th>\n",
       "      <th>...</th>\n",
       "      <th>accomplishments_visible</th>\n",
       "      <th>accomplishments_diffedText</th>\n",
       "    </tr>\n",
       "  </thead>\n",
       "  <tbody>\n",
       "    <tr>\n",
       "      <th>0</th>\n",
       "      <td>[admissions repr...</td>\n",
       "      <td>[Compliance, Cli...</td>\n",
       "      <td>...</td>\n",
       "      <td>True</td>\n",
       "      <td></td>\n",
       "    </tr>\n",
       "    <tr>\n",
       "      <th>1</th>\n",
       "      <td>[dashboard inter...</td>\n",
       "      <td>[Analysis, Colle...</td>\n",
       "      <td>...</td>\n",
       "      <td>True</td>\n",
       "      <td></td>\n",
       "    </tr>\n",
       "    <tr>\n",
       "      <th>2</th>\n",
       "      <td>[product,  desig...</td>\n",
       "      <td>[Vue, DevOps, De...</td>\n",
       "      <td>...</td>\n",
       "      <td>True</td>\n",
       "      <td></td>\n",
       "    </tr>\n",
       "    <tr>\n",
       "      <th>3</th>\n",
       "      <td>[flexibility,  i...</td>\n",
       "      <td>[]</td>\n",
       "      <td>...</td>\n",
       "      <td>True</td>\n",
       "      <td></td>\n",
       "    </tr>\n",
       "    <tr>\n",
       "      <th>4</th>\n",
       "      <td>[product roadmap...</td>\n",
       "      <td>[Curiosity]</td>\n",
       "      <td>...</td>\n",
       "      <td>True</td>\n",
       "      <td></td>\n",
       "    </tr>\n",
       "  </tbody>\n",
       "</table>\n",
       "<p>5 rows × 21 columns</p>\n",
       "</div>"
      ],
      "text/plain": [
       "              keywords      suggestedSkills  ... accomplishments_visible  \\\n",
       "0  [admissions repr...  [Compliance, Cli...  ...                 True      \n",
       "1  [dashboard inter...  [Analysis, Colle...  ...                 True      \n",
       "2  [product,  desig...  [Vue, DevOps, De...  ...                 True      \n",
       "3  [flexibility,  i...                   []  ...                 True      \n",
       "4  [product roadmap...          [Curiosity]  ...                 True      \n",
       "\n",
       "  accomplishments_diffedText  \n",
       "0                             \n",
       "1                             \n",
       "2                             \n",
       "3                             \n",
       "4                             \n",
       "\n",
       "[5 rows x 21 columns]"
      ]
     },
     "execution_count": 20,
     "metadata": {},
     "output_type": "execute_result"
    }
   ],
   "source": [
    "d2.head()"
   ]
  },
  {
   "attachments": {},
   "cell_type": "markdown",
   "metadata": {},
   "source": [
    "After flattening, we've got **columns containing strings** and **columns containing lists of nested objects(\"[]\")**. "
   ]
  },
  {
   "cell_type": "code",
   "execution_count": 21,
   "metadata": {},
   "outputs": [],
   "source": [
    "# Rename the columns\n",
    "d2.rename(columns={'awards_awards':'awards','header_contact_city': 'city', 'header_contact_state': 'state', 'skills_skills': 'skills',\n",
    "                              'header_contact_country':'country','projects_projects':'project','volunteer_volunteer':'volunteer','experience_experience':'experience',\n",
    "                              'references_references':'references','publications_publications':'publications','certifications_certifications':'certifications',\n",
    "                              'education_education':'education'}, inplace=True)"
   ]
  },
  {
   "attachments": {},
   "cell_type": "markdown",
   "metadata": {},
   "source": [
    "drop\"header_role\""
   ]
  },
  {
   "cell_type": "code",
   "execution_count": 22,
   "metadata": {},
   "outputs": [],
   "source": [
    "d2 = d2.drop(['header_role'], axis=1)"
   ]
  },
  {
   "cell_type": "code",
   "execution_count": 23,
   "metadata": {},
   "outputs": [
    {
     "data": {
      "text/plain": [
       "Index(['keywords', 'suggestedSkills', 'awards', 'city', 'state', 'country',\n",
       "       'skills', 'summary_text', 'summary_visible', 'summary_diffedText',\n",
       "       'project', 'education', 'volunteer', 'experience', 'references',\n",
       "       'publications', 'certifications', 'accomplishments_text',\n",
       "       'accomplishments_visible', 'accomplishments_diffedText'],\n",
       "      dtype='object')"
      ]
     },
     "execution_count": 23,
     "metadata": {},
     "output_type": "execute_result"
    }
   ],
   "source": [
    "d2.columns"
   ]
  },
  {
   "cell_type": "code",
   "execution_count": 24,
   "metadata": {},
   "outputs": [
    {
     "data": {
      "text/html": [
       "<div>\n",
       "<style scoped>\n",
       "    .dataframe tbody tr th:only-of-type {\n",
       "        vertical-align: middle;\n",
       "    }\n",
       "\n",
       "    .dataframe tbody tr th {\n",
       "        vertical-align: top;\n",
       "    }\n",
       "\n",
       "    .dataframe thead th {\n",
       "        text-align: right;\n",
       "    }\n",
       "</style>\n",
       "<table border=\"1\" class=\"dataframe\">\n",
       "  <thead>\n",
       "    <tr style=\"text-align: right;\">\n",
       "      <th></th>\n",
       "      <th>keywords</th>\n",
       "      <th>suggestedSkills</th>\n",
       "      <th>...</th>\n",
       "      <th>accomplishments_visible</th>\n",
       "      <th>accomplishments_diffedText</th>\n",
       "    </tr>\n",
       "  </thead>\n",
       "  <tbody>\n",
       "    <tr>\n",
       "      <th>0</th>\n",
       "      <td>[admissions repr...</td>\n",
       "      <td>[Compliance, Cli...</td>\n",
       "      <td>...</td>\n",
       "      <td>True</td>\n",
       "      <td></td>\n",
       "    </tr>\n",
       "    <tr>\n",
       "      <th>1</th>\n",
       "      <td>[dashboard inter...</td>\n",
       "      <td>[Analysis, Colle...</td>\n",
       "      <td>...</td>\n",
       "      <td>True</td>\n",
       "      <td></td>\n",
       "    </tr>\n",
       "    <tr>\n",
       "      <th>2</th>\n",
       "      <td>[product,  desig...</td>\n",
       "      <td>[Vue, DevOps, De...</td>\n",
       "      <td>...</td>\n",
       "      <td>True</td>\n",
       "      <td></td>\n",
       "    </tr>\n",
       "    <tr>\n",
       "      <th>3</th>\n",
       "      <td>[flexibility,  i...</td>\n",
       "      <td>[]</td>\n",
       "      <td>...</td>\n",
       "      <td>True</td>\n",
       "      <td></td>\n",
       "    </tr>\n",
       "    <tr>\n",
       "      <th>4</th>\n",
       "      <td>[product roadmap...</td>\n",
       "      <td>[Curiosity]</td>\n",
       "      <td>...</td>\n",
       "      <td>True</td>\n",
       "      <td></td>\n",
       "    </tr>\n",
       "  </tbody>\n",
       "</table>\n",
       "<p>5 rows × 20 columns</p>\n",
       "</div>"
      ],
      "text/plain": [
       "              keywords      suggestedSkills  ... accomplishments_visible  \\\n",
       "0  [admissions repr...  [Compliance, Cli...  ...                 True      \n",
       "1  [dashboard inter...  [Analysis, Colle...  ...                 True      \n",
       "2  [product,  desig...  [Vue, DevOps, De...  ...                 True      \n",
       "3  [flexibility,  i...                   []  ...                 True      \n",
       "4  [product roadmap...          [Curiosity]  ...                 True      \n",
       "\n",
       "  accomplishments_diffedText  \n",
       "0                             \n",
       "1                             \n",
       "2                             \n",
       "3                             \n",
       "4                             \n",
       "\n",
       "[5 rows x 20 columns]"
      ]
     },
     "execution_count": 24,
     "metadata": {},
     "output_type": "execute_result"
    }
   ],
   "source": [
    "d2.head()"
   ]
  },
  {
   "attachments": {},
   "cell_type": "markdown",
   "metadata": {},
   "source": [
    "- **'keywords', 'suggestedSkills'** contains lists of words and no dictionaries. Since words don't follow a pattern in categories, these two columns do not to be extracted\n",
    "- **'awards','skills','project','education','volunteer','experience','references','publications','certifications'** contains lists of JSON objects."
   ]
  },
  {
   "cell_type": "code",
   "execution_count": 25,
   "metadata": {},
   "outputs": [],
   "source": [
    "#d2.to_csv('resume_with_job_description_stage1.csv', index=False)"
   ]
  },
  {
   "attachments": {},
   "cell_type": "markdown",
   "metadata": {},
   "source": [
    "### 1-2-1 Step 2: Parsing Lists of Dictionaries"
   ]
  },
  {
   "attachments": {},
   "cell_type": "markdown",
   "metadata": {},
   "source": [
    "#### 1-2-1-1 Parsing Lists of Dictionaries (resume with no job description)"
   ]
  },
  {
   "attachments": {},
   "cell_type": "markdown",
   "metadata": {},
   "source": [
    "- By checking out numbers of dictionaries under each lists in Excel, we realized there are up to 43 dictionaries in one list. In this case, **flattening all keys and items and store them in different columns is not preferred**.\n",
    "- The approach we took was to parse all items of one key and store them in the same column."
   ]
  },
  {
   "attachments": {},
   "cell_type": "markdown",
   "metadata": {},
   "source": [
    "Define function parse_list() to **parse keys and items across dictionaries** in the list"
   ]
  },
  {
   "cell_type": "code",
   "execution_count": 26,
   "metadata": {},
   "outputs": [],
   "source": [
    "def parse_list(x):\n",
    "    if isinstance(x, list) and x:  # test whether list contains something\n",
    "        aggregated_keys = {}   # initialize an empty dictionary\n",
    "        for item in x:\n",
    "            if isinstance(item, dict):   # test whether item is a dictionary\n",
    "                for key, value in item.items():\n",
    "                    if key in aggregated_keys:  # if key already exists in dictionary\n",
    "                        aggregated_keys[key].append(value)  # append the new value to the existing array at that key\n",
    "                    else: # if key does not exist in dictionary\n",
    "                        aggregated_keys[key] = [value]  # add the key-value pair to the dictionary\n",
    "        return pd.Series(aggregated_keys)    # convert the dictionary to a pandas Series\n",
    "    else:\n",
    "        return pd.Series({})  # if x is not a list, return an empty Series"
   ]
  },
  {
   "attachments": {},
   "cell_type": "markdown",
   "metadata": {},
   "source": [
    "Next, we  generated new columns with collection of items under the same key to and dropped the original columns by looping over columns with lists of dictionaries."
   ]
  },
  {
   "cell_type": "code",
   "execution_count": 27,
   "metadata": {},
   "outputs": [],
   "source": [
    "for col in ['awards', 'skills', 'project', 'education', 'volunteer', 'experience', 'references', 'publications', 'certifications']:   # Select Columns with lists of dictionaries\n",
    "    parsed_df = d[col].apply(parse_list)   # apply the parse_list function to the column\n",
    "    parsed_df.columns = [f'{col}_{x}' for x in parsed_df.columns]  # rename the columns\n",
    "    d = pd.concat([d, parsed_df], axis=1)  # concatenate the parsed columns to the original data frame\n",
    "    d.drop(col, axis=1, inplace=True) # drop the original columns"
   ]
  },
  {
   "cell_type": "code",
   "execution_count": 28,
   "metadata": {},
   "outputs": [
    {
     "data": {
      "text/html": [
       "<div>\n",
       "<style scoped>\n",
       "    .dataframe tbody tr th:only-of-type {\n",
       "        vertical-align: middle;\n",
       "    }\n",
       "\n",
       "    .dataframe tbody tr th {\n",
       "        vertical-align: top;\n",
       "    }\n",
       "\n",
       "    .dataframe thead th {\n",
       "        text-align: right;\n",
       "    }\n",
       "</style>\n",
       "<table border=\"1\" class=\"dataframe\">\n",
       "  <thead>\n",
       "    <tr style=\"text-align: right;\">\n",
       "      <th></th>\n",
       "      <th>summary_text</th>\n",
       "      <th>summary_visible</th>\n",
       "      <th>...</th>\n",
       "      <th>certifications_visible</th>\n",
       "      <th>certifications_dateReceived</th>\n",
       "    </tr>\n",
       "  </thead>\n",
       "  <tbody>\n",
       "    <tr>\n",
       "      <th>0</th>\n",
       "      <td></td>\n",
       "      <td>True</td>\n",
       "      <td>...</td>\n",
       "      <td>NaN</td>\n",
       "      <td>NaN</td>\n",
       "    </tr>\n",
       "    <tr>\n",
       "      <th>1</th>\n",
       "      <td>Organized and de...</td>\n",
       "      <td>True</td>\n",
       "      <td>...</td>\n",
       "      <td>NaN</td>\n",
       "      <td>NaN</td>\n",
       "    </tr>\n",
       "    <tr>\n",
       "      <th>2</th>\n",
       "      <td>Taking on challe...</td>\n",
       "      <td>True</td>\n",
       "      <td>...</td>\n",
       "      <td>[True, True]</td>\n",
       "      <td>[October 2022, O...</td>\n",
       "    </tr>\n",
       "    <tr>\n",
       "      <th>3</th>\n",
       "      <td>Ambitious studen...</td>\n",
       "      <td>True</td>\n",
       "      <td>...</td>\n",
       "      <td>NaN</td>\n",
       "      <td>NaN</td>\n",
       "    </tr>\n",
       "    <tr>\n",
       "      <th>4</th>\n",
       "      <td>Quality Control ...</td>\n",
       "      <td>True</td>\n",
       "      <td>...</td>\n",
       "      <td>[True]</td>\n",
       "      <td>[May 2011]</td>\n",
       "    </tr>\n",
       "  </tbody>\n",
       "</table>\n",
       "<p>5 rows × 58 columns</p>\n",
       "</div>"
      ],
      "text/plain": [
       "          summary_text  summary_visible  ... certifications_visible  \\\n",
       "0                                  True  ...                  NaN     \n",
       "1  Organized and de...             True  ...                  NaN     \n",
       "2  Taking on challe...             True  ...         [True, True]     \n",
       "3  Ambitious studen...             True  ...                  NaN     \n",
       "4  Quality Control ...             True  ...               [True]     \n",
       "\n",
       "   certifications_dateReceived  \n",
       "0                  NaN          \n",
       "1                  NaN          \n",
       "2  [October 2022, O...          \n",
       "3                  NaN          \n",
       "4           [May 2011]          \n",
       "\n",
       "[5 rows x 58 columns]"
      ]
     },
     "execution_count": 28,
     "metadata": {},
     "output_type": "execute_result"
    }
   ],
   "source": [
    "#check parsed columns\n",
    "d.filter(regex='.*_.*', axis=1).head()"
   ]
  },
  {
   "attachments": {},
   "cell_type": "markdown",
   "metadata": {},
   "source": [
    "58 columns are extracted from columns of lists of dictionaries"
   ]
  },
  {
   "cell_type": "code",
   "execution_count": 29,
   "metadata": {},
   "outputs": [
    {
     "data": {
      "text/plain": [
       "Index(['city', 'state', 'country', 'summary_text', 'summary_visible',\n",
       "       'accomplishments_text', 'accomplishments_visible', 'awards_name',\n",
       "       'awards_issuer', 'awards_details', 'awards_visible',\n",
       "       'awards_description', 'awards_dateReceived', 'skills_section',\n",
       "       'skills_visible', 'skills_sectionName', 'project_link', 'project_title',\n",
       "       'project_skills', 'project_endDate', 'project_visible',\n",
       "       'project_startDate', 'project_description', 'education_GPA',\n",
       "       'education_minor', 'education_awards', 'education_school',\n",
       "       'education_program', 'education_visible', 'education_location',\n",
       "       'education_courseWork', 'education_graduationDate', 'volunteer_title',\n",
       "       'volunteer_endDate', 'volunteer_visible', 'volunteer_location',\n",
       "       'volunteer_startDate', 'volunteer_description',\n",
       "       'volunteer_organization', 'experience_title', 'experience_company',\n",
       "       'experience_endDate', 'experience_visible', 'experience_location',\n",
       "       'experience_startDate', 'experience_description', 'references_name',\n",
       "       'references_email', 'references_visible', 'references_phoneNumber',\n",
       "       'references_relationship', 'publications_date', 'publications_link',\n",
       "       'publications_name', 'publications_details', 'publications_visible',\n",
       "       'publications_publisher', 'certifications_name',\n",
       "       'certifications_issuer', 'certifications_visible',\n",
       "       'certifications_dateReceived'],\n",
       "      dtype='object')"
      ]
     },
     "execution_count": 29,
     "metadata": {},
     "output_type": "execute_result"
    }
   ],
   "source": [
    "d.columns"
   ]
  },
  {
   "attachments": {},
   "cell_type": "markdown",
   "metadata": {},
   "source": [
    "**58** columns were extracted from columns containing lists of dictionaries."
   ]
  },
  {
   "cell_type": "code",
   "execution_count": 30,
   "metadata": {},
   "outputs": [],
   "source": [
    "#Rename Columns\n",
    "d.rename(columns={'summary_text':'summary','header_contact_city': 'city', 'header_contact_state': 'state', 'skills_skills': 'skills',\n",
    "                              'header_contact_country':'country','projects_projects':'project','volunteer_volunteer':'volunteer','experience_experience':'experience',\n",
    "                              'references_references':'references','publications_publications':'publications','certifications_certifications':'certifications',\n",
    "                              'education_education':'education'}, inplace=True)"
   ]
  },
  {
   "cell_type": "code",
   "execution_count": 31,
   "metadata": {},
   "outputs": [],
   "source": [
    "d.to_csv('resume_no_job_description_stage2.csv', index=False)"
   ]
  },
  {
   "attachments": {},
   "cell_type": "markdown",
   "metadata": {},
   "source": [
    "#### 1-2-1-2 Parsing Lists of Dictionaries (resume with job descriptions)"
   ]
  },
  {
   "attachments": {},
   "cell_type": "markdown",
   "metadata": {},
   "source": [
    "Follow the same steps as in the previous dataset."
   ]
  },
  {
   "cell_type": "code",
   "execution_count": 32,
   "metadata": {},
   "outputs": [
    {
     "data": {
      "text/html": [
       "<div>\n",
       "<style scoped>\n",
       "    .dataframe tbody tr th:only-of-type {\n",
       "        vertical-align: middle;\n",
       "    }\n",
       "\n",
       "    .dataframe tbody tr th {\n",
       "        vertical-align: top;\n",
       "    }\n",
       "\n",
       "    .dataframe thead th {\n",
       "        text-align: right;\n",
       "    }\n",
       "</style>\n",
       "<table border=\"1\" class=\"dataframe\">\n",
       "  <thead>\n",
       "    <tr style=\"text-align: right;\">\n",
       "      <th></th>\n",
       "      <th>keywords</th>\n",
       "      <th>suggestedSkills</th>\n",
       "      <th>...</th>\n",
       "      <th>accomplishments_visible</th>\n",
       "      <th>accomplishments_diffedText</th>\n",
       "    </tr>\n",
       "  </thead>\n",
       "  <tbody>\n",
       "    <tr>\n",
       "      <th>0</th>\n",
       "      <td>[admissions repr...</td>\n",
       "      <td>[Compliance, Cli...</td>\n",
       "      <td>...</td>\n",
       "      <td>True</td>\n",
       "      <td></td>\n",
       "    </tr>\n",
       "    <tr>\n",
       "      <th>1</th>\n",
       "      <td>[dashboard inter...</td>\n",
       "      <td>[Analysis, Colle...</td>\n",
       "      <td>...</td>\n",
       "      <td>True</td>\n",
       "      <td></td>\n",
       "    </tr>\n",
       "    <tr>\n",
       "      <th>2</th>\n",
       "      <td>[product,  desig...</td>\n",
       "      <td>[Vue, DevOps, De...</td>\n",
       "      <td>...</td>\n",
       "      <td>True</td>\n",
       "      <td></td>\n",
       "    </tr>\n",
       "    <tr>\n",
       "      <th>3</th>\n",
       "      <td>[flexibility,  i...</td>\n",
       "      <td>[]</td>\n",
       "      <td>...</td>\n",
       "      <td>True</td>\n",
       "      <td></td>\n",
       "    </tr>\n",
       "    <tr>\n",
       "      <th>4</th>\n",
       "      <td>[product roadmap...</td>\n",
       "      <td>[Curiosity]</td>\n",
       "      <td>...</td>\n",
       "      <td>True</td>\n",
       "      <td></td>\n",
       "    </tr>\n",
       "  </tbody>\n",
       "</table>\n",
       "<p>5 rows × 20 columns</p>\n",
       "</div>"
      ],
      "text/plain": [
       "              keywords      suggestedSkills  ... accomplishments_visible  \\\n",
       "0  [admissions repr...  [Compliance, Cli...  ...                 True      \n",
       "1  [dashboard inter...  [Analysis, Colle...  ...                 True      \n",
       "2  [product,  desig...  [Vue, DevOps, De...  ...                 True      \n",
       "3  [flexibility,  i...                   []  ...                 True      \n",
       "4  [product roadmap...          [Curiosity]  ...                 True      \n",
       "\n",
       "  accomplishments_diffedText  \n",
       "0                             \n",
       "1                             \n",
       "2                             \n",
       "3                             \n",
       "4                             \n",
       "\n",
       "[5 rows x 20 columns]"
      ]
     },
     "execution_count": 32,
     "metadata": {},
     "output_type": "execute_result"
    }
   ],
   "source": [
    "d2.head()"
   ]
  },
  {
   "cell_type": "code",
   "execution_count": 33,
   "metadata": {},
   "outputs": [],
   "source": [
    "for col in ['awards', 'skills', 'project', 'education', 'volunteer', 'experience', 'references', 'publications', 'certifications']:   # Select Columns with lists of dictionaries\n",
    "    parsed_df = d2[col].apply(parse_list)   # apply the parse_list function to the column\n",
    "    parsed_df.columns = [f'{col}_{x}' for x in parsed_df.columns]  # rename the columns\n",
    "    d2 = pd.concat([d2, parsed_df], axis=1)  # concatenate the parsed columns to the original data frame\n",
    "    d2.drop(col, axis=1, inplace=True) # drop the original columns"
   ]
  },
  {
   "cell_type": "code",
   "execution_count": 34,
   "metadata": {},
   "outputs": [
    {
     "data": {
      "text/html": [
       "<div>\n",
       "<style scoped>\n",
       "    .dataframe tbody tr th:only-of-type {\n",
       "        vertical-align: middle;\n",
       "    }\n",
       "\n",
       "    .dataframe tbody tr th {\n",
       "        vertical-align: top;\n",
       "    }\n",
       "\n",
       "    .dataframe thead th {\n",
       "        text-align: right;\n",
       "    }\n",
       "</style>\n",
       "<table border=\"1\" class=\"dataframe\">\n",
       "  <thead>\n",
       "    <tr style=\"text-align: right;\">\n",
       "      <th></th>\n",
       "      <th>keywords</th>\n",
       "      <th>suggestedSkills</th>\n",
       "      <th>...</th>\n",
       "      <th>certifications_visible</th>\n",
       "      <th>certifications_dateReceived</th>\n",
       "    </tr>\n",
       "  </thead>\n",
       "  <tbody>\n",
       "    <tr>\n",
       "      <th>0</th>\n",
       "      <td>[admissions repr...</td>\n",
       "      <td>[Compliance, Cli...</td>\n",
       "      <td>...</td>\n",
       "      <td>[True]</td>\n",
       "      <td>[November 2021]</td>\n",
       "    </tr>\n",
       "    <tr>\n",
       "      <th>1</th>\n",
       "      <td>[dashboard inter...</td>\n",
       "      <td>[Analysis, Colle...</td>\n",
       "      <td>...</td>\n",
       "      <td>[True, True, True]</td>\n",
       "      <td>[May 2022, May 2...</td>\n",
       "    </tr>\n",
       "    <tr>\n",
       "      <th>2</th>\n",
       "      <td>[product,  desig...</td>\n",
       "      <td>[Vue, DevOps, De...</td>\n",
       "      <td>...</td>\n",
       "      <td>NaN</td>\n",
       "      <td>NaN</td>\n",
       "    </tr>\n",
       "    <tr>\n",
       "      <th>3</th>\n",
       "      <td>[flexibility,  i...</td>\n",
       "      <td>[]</td>\n",
       "      <td>...</td>\n",
       "      <td>NaN</td>\n",
       "      <td>NaN</td>\n",
       "    </tr>\n",
       "    <tr>\n",
       "      <th>4</th>\n",
       "      <td>[product roadmap...</td>\n",
       "      <td>[Curiosity]</td>\n",
       "      <td>...</td>\n",
       "      <td>[True, True]</td>\n",
       "      <td>[May 2022, Janua...</td>\n",
       "    </tr>\n",
       "  </tbody>\n",
       "</table>\n",
       "<p>5 rows × 68 columns</p>\n",
       "</div>"
      ],
      "text/plain": [
       "              keywords      suggestedSkills  ... certifications_visible  \\\n",
       "0  [admissions repr...  [Compliance, Cli...  ...               [True]     \n",
       "1  [dashboard inter...  [Analysis, Colle...  ...   [True, True, True]     \n",
       "2  [product,  desig...  [Vue, DevOps, De...  ...                  NaN     \n",
       "3  [flexibility,  i...                   []  ...                  NaN     \n",
       "4  [product roadmap...          [Curiosity]  ...         [True, True]     \n",
       "\n",
       "  certifications_dateReceived  \n",
       "0      [November 2021]         \n",
       "1  [May 2022, May 2...         \n",
       "2                  NaN         \n",
       "3                  NaN         \n",
       "4  [May 2022, Janua...         \n",
       "\n",
       "[5 rows x 68 columns]"
      ]
     },
     "execution_count": 34,
     "metadata": {},
     "output_type": "execute_result"
    }
   ],
   "source": [
    "d2.head()"
   ]
  },
  {
   "cell_type": "code",
   "execution_count": 35,
   "metadata": {},
   "outputs": [
    {
     "data": {
      "text/plain": [
       "Index(['keywords', 'suggestedSkills', 'city', 'state', 'country',\n",
       "       'summary_text', 'summary_visible', 'summary_diffedText',\n",
       "       'accomplishments_text', 'accomplishments_visible',\n",
       "       'accomplishments_diffedText', 'awards_name', 'awards_issuer',\n",
       "       'awards_details', 'awards_visible', 'awards_dateReceived',\n",
       "       'awards_description', 'skills_section', 'skills_visible',\n",
       "       'skills_sectionName', 'project_link', 'project_title', 'project_skills',\n",
       "       'project_endDate', 'project_visible', 'project_startDate',\n",
       "       'project_description', 'project_diffedDescription', 'education_GPA',\n",
       "       'education_minor', 'education_awards', 'education_school',\n",
       "       'education_program', 'education_visible', 'education_location',\n",
       "       'education_courseWork', 'education_graduationDate', 'volunteer_title',\n",
       "       'volunteer_endDate', 'volunteer_visible', 'volunteer_location',\n",
       "       'volunteer_startDate', 'volunteer_description',\n",
       "       'volunteer_organization', 'volunteer_diffedDescription',\n",
       "       'experience_title', 'experience_company', 'experience_endDate',\n",
       "       'experience_visible', 'experience_location', 'experience_startDate',\n",
       "       'experience_description', 'experience_diffedDescription',\n",
       "       'references_name', 'references_email', 'references_visible',\n",
       "       'references_phoneNumber', 'references_relationship',\n",
       "       'publications_date', 'publications_link', 'publications_name',\n",
       "       'publications_details', 'publications_visible',\n",
       "       'publications_publisher', 'certifications_name',\n",
       "       'certifications_issuer', 'certifications_visible',\n",
       "       'certifications_dateReceived'],\n",
       "      dtype='object')"
      ]
     },
     "execution_count": 35,
     "metadata": {},
     "output_type": "execute_result"
    }
   ],
   "source": [
    "d2.columns"
   ]
  },
  {
   "cell_type": "code",
   "execution_count": 36,
   "metadata": {},
   "outputs": [],
   "source": [
    "d2.to_csv('resume_with_job_description_stage2.csv', index=False)"
   ]
  },
  {
   "attachments": {},
   "cell_type": "markdown",
   "metadata": {},
   "source": [
    "## 1-3 Data Cleaning :Choose and Rename Columns of Interest (Step3)"
   ]
  },
  {
   "cell_type": "code",
   "execution_count": 37,
   "metadata": {},
   "outputs": [],
   "source": [
    "rnd= d.copy()  \n",
    "rd = d2.copy()"
   ]
  },
  {
   "attachments": {},
   "cell_type": "markdown",
   "metadata": {},
   "source": [
    "drop all columns contain \"visible\" in the column name"
   ]
  },
  {
   "cell_type": "code",
   "execution_count": 38,
   "metadata": {},
   "outputs": [],
   "source": [
    "rnd = rnd.drop(columns=[col for col in rnd.columns if 'visible' in col])\n",
    "rd = rd.drop(columns=[col for col in rd.columns if 'visible' in col])\n"
   ]
  },
  {
   "cell_type": "code",
   "execution_count": 39,
   "metadata": {},
   "outputs": [],
   "source": [
    "rd = rd.drop(columns=[col for col in rd.columns if 'diffed' in col])"
   ]
  },
  {
   "cell_type": "code",
   "execution_count": 40,
   "metadata": {},
   "outputs": [
    {
     "data": {
      "text/plain": [
       "Index(['city', 'state', 'country', 'summary', 'accomplishments_text',\n",
       "       'awards_name', 'awards_issuer', 'awards_details', 'awards_description',\n",
       "       'awards_dateReceived', 'skills_section', 'skills_sectionName',\n",
       "       'project_link', 'project_title', 'project_skills', 'project_endDate',\n",
       "       'project_startDate', 'project_description', 'education_GPA',\n",
       "       'education_minor', 'education_awards', 'education_school',\n",
       "       'education_program', 'education_location', 'education_courseWork',\n",
       "       'education_graduationDate', 'volunteer_title', 'volunteer_endDate',\n",
       "       'volunteer_location', 'volunteer_startDate', 'volunteer_description',\n",
       "       'volunteer_organization', 'experience_title', 'experience_company',\n",
       "       'experience_endDate', 'experience_location', 'experience_startDate',\n",
       "       'experience_description', 'references_name', 'references_email',\n",
       "       'references_phoneNumber', 'references_relationship',\n",
       "       'publications_date', 'publications_link', 'publications_name',\n",
       "       'publications_details', 'publications_publisher', 'certifications_name',\n",
       "       'certifications_issuer', 'certifications_dateReceived'],\n",
       "      dtype='object')"
      ]
     },
     "execution_count": 40,
     "metadata": {},
     "output_type": "execute_result"
    }
   ],
   "source": [
    "rnd.columns"
   ]
  },
  {
   "cell_type": "code",
   "execution_count": 41,
   "metadata": {},
   "outputs": [
    {
     "data": {
      "text/plain": [
       "Index(['keywords', 'suggestedSkills', 'city', 'state', 'country',\n",
       "       'summary_text', 'accomplishments_text', 'awards_name', 'awards_issuer',\n",
       "       'awards_details', 'awards_dateReceived', 'awards_description',\n",
       "       'skills_section', 'skills_sectionName', 'project_link', 'project_title',\n",
       "       'project_skills', 'project_endDate', 'project_startDate',\n",
       "       'project_description', 'education_GPA', 'education_minor',\n",
       "       'education_awards', 'education_school', 'education_program',\n",
       "       'education_location', 'education_courseWork',\n",
       "       'education_graduationDate', 'volunteer_title', 'volunteer_endDate',\n",
       "       'volunteer_location', 'volunteer_startDate', 'volunteer_description',\n",
       "       'volunteer_organization', 'experience_title', 'experience_company',\n",
       "       'experience_endDate', 'experience_location', 'experience_startDate',\n",
       "       'experience_description', 'references_name', 'references_email',\n",
       "       'references_phoneNumber', 'references_relationship',\n",
       "       'publications_date', 'publications_link', 'publications_name',\n",
       "       'publications_details', 'publications_publisher', 'certifications_name',\n",
       "       'certifications_issuer', 'certifications_dateReceived'],\n",
       "      dtype='object')"
      ]
     },
     "execution_count": 41,
     "metadata": {},
     "output_type": "execute_result"
    }
   ],
   "source": [
    "rd.columns"
   ]
  },
  {
   "attachments": {},
   "cell_type": "markdown",
   "metadata": {},
   "source": [
    "drop other columns of no interest"
   ]
  },
  {
   "cell_type": "code",
   "execution_count": 42,
   "metadata": {},
   "outputs": [],
   "source": [
    "rnd = rnd.drop(['awards_details','references_phoneNumber','publications_link','project_link','references_email'], axis=1)"
   ]
  },
  {
   "cell_type": "code",
   "execution_count": 43,
   "metadata": {},
   "outputs": [],
   "source": [
    "rd = rd.drop(['awards_details','references_phoneNumber','publications_link','project_link','references_email'], axis=1)"
   ]
  },
  {
   "cell_type": "code",
   "execution_count": 44,
   "metadata": {},
   "outputs": [
    {
     "data": {
      "text/plain": [
       "Index(['city', 'state', 'country', 'summary', 'accomplishments_text',\n",
       "       'awards_name', 'awards_issuer', 'awards_description',\n",
       "       'awards_dateReceived', 'skills_section', 'skills_sectionName',\n",
       "       'project_title', 'project_skills', 'project_endDate',\n",
       "       'project_startDate', 'project_description', 'education_GPA',\n",
       "       'education_minor', 'education_awards', 'education_school',\n",
       "       'education_program', 'education_location', 'education_courseWork',\n",
       "       'education_graduationDate', 'volunteer_title', 'volunteer_endDate',\n",
       "       'volunteer_location', 'volunteer_startDate', 'volunteer_description',\n",
       "       'volunteer_organization', 'experience_title', 'experience_company',\n",
       "       'experience_endDate', 'experience_location', 'experience_startDate',\n",
       "       'experience_description', 'references_name', 'references_relationship',\n",
       "       'publications_date', 'publications_name', 'publications_details',\n",
       "       'publications_publisher', 'certifications_name',\n",
       "       'certifications_issuer', 'certifications_dateReceived'],\n",
       "      dtype='object')"
      ]
     },
     "execution_count": 44,
     "metadata": {},
     "output_type": "execute_result"
    }
   ],
   "source": [
    "rnd.columns"
   ]
  },
  {
   "cell_type": "code",
   "execution_count": 45,
   "metadata": {},
   "outputs": [
    {
     "data": {
      "text/plain": [
       "Index(['keywords', 'suggestedSkills', 'city', 'state', 'country',\n",
       "       'summary_text', 'accomplishments_text', 'awards_name', 'awards_issuer',\n",
       "       'awards_dateReceived', 'awards_description', 'skills_section',\n",
       "       'skills_sectionName', 'project_title', 'project_skills',\n",
       "       'project_endDate', 'project_startDate', 'project_description',\n",
       "       'education_GPA', 'education_minor', 'education_awards',\n",
       "       'education_school', 'education_program', 'education_location',\n",
       "       'education_courseWork', 'education_graduationDate', 'volunteer_title',\n",
       "       'volunteer_endDate', 'volunteer_location', 'volunteer_startDate',\n",
       "       'volunteer_description', 'volunteer_organization', 'experience_title',\n",
       "       'experience_company', 'experience_endDate', 'experience_location',\n",
       "       'experience_startDate', 'experience_description', 'references_name',\n",
       "       'references_relationship', 'publications_date', 'publications_name',\n",
       "       'publications_details', 'publications_publisher', 'certifications_name',\n",
       "       'certifications_issuer', 'certifications_dateReceived'],\n",
       "      dtype='object')"
      ]
     },
     "execution_count": 45,
     "metadata": {},
     "output_type": "execute_result"
    }
   ],
   "source": [
    "rd.columns"
   ]
  },
  {
   "cell_type": "code",
   "execution_count": 46,
   "metadata": {},
   "outputs": [],
   "source": [
    "# Rename the columns for easier reference\n",
    "rnd.rename(columns={'skills_section':'skills','skills_sectionName': 'skills_type'}, inplace=True)\n",
    "rd.rename(columns={'skills_section':'skills','skills_sectionName': 'skills_type'}, inplace=True)"
   ]
  },
  {
   "cell_type": "code",
   "execution_count": 47,
   "metadata": {},
   "outputs": [],
   "source": [
    "#rnd. to_csv('resume_no_job_description_stage3.csv', index=False)\n",
    "#rd. to_csv('resume_with_job_description_stage3.csv', index=False)"
   ]
  },
  {
   "attachments": {},
   "cell_type": "markdown",
   "metadata": {},
   "source": [
    "## 1-4 Text Cleaning (Step 4)"
   ]
  },
  {
   "cell_type": "code",
   "execution_count": 48,
   "metadata": {},
   "outputs": [],
   "source": [
    "rd4 = rd.copy()\n",
    "rnd4 = rnd.copy()"
   ]
  },
  {
   "attachments": {},
   "cell_type": "markdown",
   "metadata": {},
   "source": [
    "### 1-4-1 Converting all columns into Strings"
   ]
  },
  {
   "attachments": {},
   "cell_type": "markdown",
   "metadata": {},
   "source": [
    "To work with text cleaning, all values should be strings."
   ]
  },
  {
   "cell_type": "code",
   "execution_count": 49,
   "metadata": {},
   "outputs": [],
   "source": [
    "def list_to_string(lst):\n",
    "    if isinstance(lst, list):\n",
    "        return ', '.join(lst)\n",
    "    return lst"
   ]
  },
  {
   "attachments": {},
   "cell_type": "markdown",
   "metadata": {},
   "source": [
    "turn columns containing lists to strings and replace empty strings with nan"
   ]
  },
  {
   "cell_type": "code",
   "execution_count": 50,
   "metadata": {},
   "outputs": [],
   "source": [
    "rnd4 = rnd4.applymap(list_to_string)\n",
    "rd4 = rd4.applymap(list_to_string)"
   ]
  },
  {
   "attachments": {},
   "cell_type": "markdown",
   "metadata": {},
   "source": [
    "convert floats to strings"
   ]
  },
  {
   "cell_type": "code",
   "execution_count": 51,
   "metadata": {},
   "outputs": [],
   "source": [
    "rnd4 = rnd4.astype(str)\n",
    "rd4 = rd4.astype(str)"
   ]
  },
  {
   "cell_type": "code",
   "execution_count": 52,
   "metadata": {},
   "outputs": [
    {
     "data": {
      "text/html": [
       "<div>\n",
       "<style scoped>\n",
       "    .dataframe tbody tr th:only-of-type {\n",
       "        vertical-align: middle;\n",
       "    }\n",
       "\n",
       "    .dataframe tbody tr th {\n",
       "        vertical-align: top;\n",
       "    }\n",
       "\n",
       "    .dataframe thead th {\n",
       "        text-align: right;\n",
       "    }\n",
       "</style>\n",
       "<table border=\"1\" class=\"dataframe\">\n",
       "  <thead>\n",
       "    <tr style=\"text-align: right;\">\n",
       "      <th></th>\n",
       "      <th>city</th>\n",
       "      <th>state</th>\n",
       "      <th>...</th>\n",
       "      <th>certifications_issuer</th>\n",
       "      <th>certifications_dateReceived</th>\n",
       "    </tr>\n",
       "  </thead>\n",
       "  <tbody>\n",
       "    <tr>\n",
       "      <th>0</th>\n",
       "      <td>Algiers / Hussei...</td>\n",
       "      <td>Algiers</td>\n",
       "      <td>...</td>\n",
       "      <td>nan</td>\n",
       "      <td>nan</td>\n",
       "    </tr>\n",
       "    <tr>\n",
       "      <th>1</th>\n",
       "      <td>Kisii</td>\n",
       "      <td></td>\n",
       "      <td>...</td>\n",
       "      <td>nan</td>\n",
       "      <td>nan</td>\n",
       "    </tr>\n",
       "    <tr>\n",
       "      <th>2</th>\n",
       "      <td>Nairobi</td>\n",
       "      <td>Nairobi</td>\n",
       "      <td>...</td>\n",
       "      <td>St John Ambulanc...</td>\n",
       "      <td>October 2022, Oc...</td>\n",
       "    </tr>\n",
       "    <tr>\n",
       "      <th>3</th>\n",
       "      <td>NAIROBI</td>\n",
       "      <td></td>\n",
       "      <td>...</td>\n",
       "      <td>nan</td>\n",
       "      <td>nan</td>\n",
       "    </tr>\n",
       "    <tr>\n",
       "      <th>4</th>\n",
       "      <td>Machakos</td>\n",
       "      <td>Machakos</td>\n",
       "      <td>...</td>\n",
       "      <td>Kenya Institute ...</td>\n",
       "      <td>May 2011</td>\n",
       "    </tr>\n",
       "  </tbody>\n",
       "</table>\n",
       "<p>5 rows × 45 columns</p>\n",
       "</div>"
      ],
      "text/plain": [
       "                  city     state  ... certifications_issuer  \\\n",
       "0  Algiers / Hussei...   Algiers  ...                  nan    \n",
       "1                Kisii            ...                  nan    \n",
       "2              Nairobi   Nairobi  ...  St John Ambulanc...    \n",
       "3              NAIROBI            ...                  nan    \n",
       "4             Machakos  Machakos  ...  Kenya Institute ...    \n",
       "\n",
       "  certifications_dateReceived  \n",
       "0                  nan         \n",
       "1                  nan         \n",
       "2  October 2022, Oc...         \n",
       "3                  nan         \n",
       "4             May 2011         \n",
       "\n",
       "[5 rows x 45 columns]"
      ]
     },
     "execution_count": 52,
     "metadata": {},
     "output_type": "execute_result"
    }
   ],
   "source": [
    "rnd4.head()"
   ]
  },
  {
   "attachments": {},
   "cell_type": "markdown",
   "metadata": {},
   "source": [
    "### 1-4-2 Converting values into nan"
   ]
  },
  {
   "attachments": {},
   "cell_type": "markdown",
   "metadata": {},
   "source": [
    "Convert NULL values into nan"
   ]
  },
  {
   "attachments": {},
   "cell_type": "markdown",
   "metadata": {},
   "source": [
    "Convert \",\" into NAn"
   ]
  },
  {
   "cell_type": "code",
   "execution_count": 53,
   "metadata": {},
   "outputs": [],
   "source": [
    "# define a function to convert string values to NaN\n",
    "def convert_to_nan(x):\n",
    "    if isinstance(x, str) and x.strip() in [',', ',,', ',,,', ',,,,', ',,,,,', ',,,,,,', ',,,,,,,', ',,,,,,,,',',,,,,,,,']:\n",
    "        return np.nan\n",
    "    else:\n",
    "        return x"
   ]
  },
  {
   "cell_type": "code",
   "execution_count": 54,
   "metadata": {},
   "outputs": [],
   "source": [
    "rnd4.replace('',np.nan,inplace=True)\n",
    "rd4.replace('',np.nan,inplace=True)"
   ]
  },
  {
   "cell_type": "code",
   "execution_count": 55,
   "metadata": {},
   "outputs": [],
   "source": [
    "rd4 = rd4.applymap(convert_to_nan)\n",
    "rnd4 = rnd4.applymap(convert_to_nan)"
   ]
  },
  {
   "cell_type": "code",
   "execution_count": 56,
   "metadata": {},
   "outputs": [
    {
     "data": {
      "text/html": [
       "<div>\n",
       "<style scoped>\n",
       "    .dataframe tbody tr th:only-of-type {\n",
       "        vertical-align: middle;\n",
       "    }\n",
       "\n",
       "    .dataframe tbody tr th {\n",
       "        vertical-align: top;\n",
       "    }\n",
       "\n",
       "    .dataframe thead th {\n",
       "        text-align: right;\n",
       "    }\n",
       "</style>\n",
       "<table border=\"1\" class=\"dataframe\">\n",
       "  <thead>\n",
       "    <tr style=\"text-align: right;\">\n",
       "      <th></th>\n",
       "      <th>keywords</th>\n",
       "      <th>suggestedSkills</th>\n",
       "      <th>...</th>\n",
       "      <th>certifications_issuer</th>\n",
       "      <th>certifications_dateReceived</th>\n",
       "    </tr>\n",
       "  </thead>\n",
       "  <tbody>\n",
       "    <tr>\n",
       "      <th>0</th>\n",
       "      <td>admissions repre...</td>\n",
       "      <td>Compliance, Clie...</td>\n",
       "      <td>...</td>\n",
       "      <td>California River...</td>\n",
       "      <td>November 2021</td>\n",
       "    </tr>\n",
       "    <tr>\n",
       "      <th>1</th>\n",
       "      <td>dashboard interf...</td>\n",
       "      <td>Analysis, Collec...</td>\n",
       "      <td>...</td>\n",
       "      <td>Google, Google, ...</td>\n",
       "      <td>May 2022, May 20...</td>\n",
       "    </tr>\n",
       "    <tr>\n",
       "      <th>2</th>\n",
       "      <td>product,  design...</td>\n",
       "      <td>Vue, DevOps, Del...</td>\n",
       "      <td>...</td>\n",
       "      <td>nan</td>\n",
       "      <td>nan</td>\n",
       "    </tr>\n",
       "    <tr>\n",
       "      <th>3</th>\n",
       "      <td>flexibility,  in...</td>\n",
       "      <td>NaN</td>\n",
       "      <td>...</td>\n",
       "      <td>nan</td>\n",
       "      <td>nan</td>\n",
       "    </tr>\n",
       "    <tr>\n",
       "      <th>4</th>\n",
       "      <td>product roadmaps...</td>\n",
       "      <td>Curiosity</td>\n",
       "      <td>...</td>\n",
       "      <td>Project Manageme...</td>\n",
       "      <td>May 2022, Januar...</td>\n",
       "    </tr>\n",
       "  </tbody>\n",
       "</table>\n",
       "<p>5 rows × 47 columns</p>\n",
       "</div>"
      ],
      "text/plain": [
       "              keywords      suggestedSkills  ... certifications_issuer  \\\n",
       "0  admissions repre...  Compliance, Clie...  ...  California River...    \n",
       "1  dashboard interf...  Analysis, Collec...  ...  Google, Google, ...    \n",
       "2  product,  design...  Vue, DevOps, Del...  ...                  nan    \n",
       "3  flexibility,  in...                  NaN  ...                  nan    \n",
       "4  product roadmaps...            Curiosity  ...  Project Manageme...    \n",
       "\n",
       "  certifications_dateReceived  \n",
       "0        November 2021         \n",
       "1  May 2022, May 20...         \n",
       "2                  nan         \n",
       "3                  nan         \n",
       "4  May 2022, Januar...         \n",
       "\n",
       "[5 rows x 47 columns]"
      ]
     },
     "execution_count": 56,
     "metadata": {},
     "output_type": "execute_result"
    }
   ],
   "source": [
    "rd4.head()"
   ]
  },
  {
   "attachments": {},
   "cell_type": "markdown",
   "metadata": {},
   "source": [
    "### 1-4-2 Punctuations"
   ]
  },
  {
   "attachments": {},
   "cell_type": "markdown",
   "metadata": {},
   "source": [
    "#### 1-4-2-1 Remove Dots"
   ]
  },
  {
   "cell_type": "code",
   "execution_count": 57,
   "metadata": {},
   "outputs": [],
   "source": [
    "def remove_dots(text):\n",
    "    return text.replace('•', '')"
   ]
  },
  {
   "cell_type": "code",
   "execution_count": 58,
   "metadata": {},
   "outputs": [],
   "source": [
    "#rd4 = rd4.applymap(remove_dots)\n",
    "#rnd4 = rnd4.applymap(remove_dots)"
   ]
  },
  {
   "attachments": {},
   "cell_type": "markdown",
   "metadata": {},
   "source": [
    "Most columns contain lists instead of strings, we can directly work with the lists"
   ]
  },
  {
   "attachments": {},
   "cell_type": "markdown",
   "metadata": {},
   "source": [
    "#### 1-4-2-2 Remove Leading Comma"
   ]
  },
  {
   "cell_type": "code",
   "execution_count": 59,
   "metadata": {},
   "outputs": [],
   "source": [
    "# define a function to remove leading commas from strings\n",
    "def remove_leading_comma(x):\n",
    "    if isinstance(x, str) and x.startswith(','):\n",
    "        return x[1:]\n",
    "    else:\n",
    "        return x"
   ]
  },
  {
   "cell_type": "code",
   "execution_count": 60,
   "metadata": {},
   "outputs": [],
   "source": [
    "rd4 = rd4.applymap(remove_leading_comma)\n",
    "rnd4 = rnd4.applymap(remove_leading_comma)"
   ]
  },
  {
   "attachments": {},
   "cell_type": "markdown",
   "metadata": {},
   "source": [
    "### 1-4-2-3 Counting numbers of sections"
   ]
  },
  {
   "attachments": {},
   "cell_type": "markdown",
   "metadata": {},
   "source": [
    "Count numbers of sections in awards, skills, projects,educations, volunteer experience, experiences, references, publications and certifications"
   ]
  },
  {
   "cell_type": "code",
   "execution_count": 61,
   "metadata": {},
   "outputs": [],
   "source": [
    "columns_to_count=['awards_name','skills','project_title','education_school','volunteer_endDate',\n",
    "                  'volunteer_title','experience_title','references_name','publications_name',\n",
    "                  'certifications_name']"
   ]
  },
  {
   "cell_type": "code",
   "execution_count": 62,
   "metadata": {},
   "outputs": [],
   "source": [
    "# Loop through the columns and count the double quotes\n",
    "for col in columns_to_count:\n",
    "    # Create a new column to store the count of double quotes\n",
    "    new_col = col + '_count'\n",
    "    # Count the commas in the original column and store the counts in the new column\n",
    "    rd4[new_col] = rd4[col].apply(lambda x: str(x).count(',') if str(x).count(',') > 1 else 0)\n",
    "    # Count the double quotes in the original column and store the counts in the new column\n",
    "    rd4[new_col] = rd4[col].apply(lambda x: str(x).count(','))"
   ]
  },
  {
   "cell_type": "code",
   "execution_count": 63,
   "metadata": {},
   "outputs": [],
   "source": [
    "# Loop through the columns and count the double quotes\n",
    "for col in columns_to_count:\n",
    "    # Create a new column to store the count of double quotes\n",
    "    new_col = col + '_count'\n",
    "    # Count the commas in the original column and store the counts in the new column\n",
    "    rnd4[new_col] = rnd4[col].apply(lambda x: str(x).count(',') if str(x).count(',') > 1 else 0)\n",
    "    # Count the double quotes in the original column and store the counts in the new column\n",
    "    rnd4[new_col] = rnd4[col].apply(lambda x: str(x).count(','))"
   ]
  },
  {
   "cell_type": "code",
   "execution_count": 64,
   "metadata": {},
   "outputs": [],
   "source": [
    "#rnd4. to_csv('resume_no_job_description_stage4.csv', index=False)\n",
    "#rd4. to_csv('resume_with_job_description_stage4.csv', index=False)"
   ]
  },
  {
   "cell_type": "code",
   "execution_count": 65,
   "metadata": {},
   "outputs": [
    {
     "data": {
      "text/plain": [
       "Index(['keywords', 'suggestedSkills', 'city', 'state', 'country',\n",
       "       'summary_text', 'accomplishments_text', 'awards_name', 'awards_issuer',\n",
       "       'awards_dateReceived', 'awards_description', 'skills', 'skills_type',\n",
       "       'project_title', 'project_skills', 'project_endDate',\n",
       "       'project_startDate', 'project_description', 'education_GPA',\n",
       "       'education_minor', 'education_awards', 'education_school',\n",
       "       'education_program', 'education_location', 'education_courseWork',\n",
       "       'education_graduationDate', 'volunteer_title', 'volunteer_endDate',\n",
       "       'volunteer_location', 'volunteer_startDate', 'volunteer_description',\n",
       "       'volunteer_organization', 'experience_title', 'experience_company',\n",
       "       'experience_endDate', 'experience_location', 'experience_startDate',\n",
       "       'experience_description', 'references_name', 'references_relationship',\n",
       "       'publications_date', 'publications_name', 'publications_details',\n",
       "       'publications_publisher', 'certifications_name',\n",
       "       'certifications_issuer', 'certifications_dateReceived',\n",
       "       'awards_name_count', 'skills_count', 'project_title_count',\n",
       "       'education_school_count', 'volunteer_endDate_count',\n",
       "       'volunteer_title_count', 'experience_title_count',\n",
       "       'references_name_count', 'publications_name_count',\n",
       "       'certifications_name_count'],\n",
       "      dtype='object')"
      ]
     },
     "execution_count": 65,
     "metadata": {},
     "output_type": "execute_result"
    }
   ],
   "source": [
    "rd4.columns\n"
   ]
  },
  {
   "attachments": {},
   "cell_type": "markdown",
   "metadata": {},
   "source": [
    "# 2. EDA"
   ]
  },
  {
   "attachments": {},
   "cell_type": "markdown",
   "metadata": {},
   "source": [
    "2-1 Find two to three target industries that the majority of our users apply to. \n",
    "\n",
    "2-2 Discover trends in demographics and find which industries yield the best and the worst resumes. We will provide metrics for defining a \"Good\" resume.\n",
    "\n",
    "2-3 Determine the approximate age range and experience level. \n",
    "\n",
    "2-4 Determine trends in experience and skills for these target users."
   ]
  },
  {
   "attachments": {},
   "cell_type": "markdown",
   "metadata": {},
   "source": [
    "## 2-1-1 Topic Modeling with Latent Dirichlet Allocation (LDA) on 'Keywords' Column"
   ]
  },
  {
   "cell_type": "code",
   "execution_count": 66,
   "metadata": {},
   "outputs": [
    {
     "name": "stdout",
     "output_type": "stream",
     "text": [
      "Topic 1: financial, management, accounting, reports, analysis\n",
      "Topic 2: design, user, research, data, ux\n",
      "Topic 3: customer, service, experience, support, product\n",
      "Topic 4: skills, communication, detail, to, office\n",
      "Topic 5: management, development, research, program, community\n",
      "Topic 6: safety, quality, equipment, inventory, clinical\n",
      "Topic 7: training, management, hr, development, learning\n",
      "Topic 8: data, analysis, product, business, analytics\n",
      "Topic 9: marketing, media, social, content, digital\n",
      "Topic 10: and, security, risk, information, of\n",
      "Topic 11: software, technical, support, skills, development\n",
      "Topic 12: test, testing, agile, software, development\n",
      "Topic 13: design, creative, adobe, video, digital\n",
      "Topic 14: the, and, experience, other, ability\n",
      "Topic 15: job, system, tracking, applicant, description\n",
      "Topic 16: project, management, business, communication, planning\n",
      "Topic 17: skills, environment, health, communication, help\n",
      "Topic 18: sales, customer, business, client, relationships\n",
      "Topic 19: reporting, design, programming, systems, reliability\n",
      "Topic 20: security, systems, network, management, system\n",
      "15    1263\n",
      "3     1137\n",
      "7     1008\n",
      "0      856\n",
      "8      853\n",
      "17     824\n",
      "2      754\n",
      "4      643\n",
      "10     609\n",
      "12     583\n",
      "14     495\n",
      "5      485\n",
      "11     435\n",
      "6      405\n",
      "19     402\n",
      "9      393\n",
      "1      253\n",
      "13     235\n",
      "16     174\n",
      "18     169\n",
      "Name: topic, dtype: int64\n"
     ]
    }
   ],
   "source": [
    "X = rd4['keywords'].fillna('')\n",
    "# Feature extraction using CountVectorizer\n",
    "vectorizer = CountVectorizer()\n",
    "X_vectorized = vectorizer.fit_transform(X)\n",
    "\n",
    "# Apply Latent Dirichlet Allocation (LDA) for topic modeling\n",
    "num_topics = 20  # Specify the number of topics you want to extract\n",
    "lda = LatentDirichletAllocation(n_components=num_topics, random_state=42)\n",
    "lda.fit(X_vectorized)\n",
    "\n",
    "# Get the top keywords for each topic\n",
    "feature_names = vectorizer.get_feature_names_out()\n",
    "for topic_idx, topic in enumerate(lda.components_):\n",
    "    top_keywords = [feature_names[i] for i in topic.argsort()[:-5 - 1:-1]]\n",
    "    print(f\"Topic {topic_idx + 1}: {', '.join(top_keywords)}\")\n",
    "\n",
    "# Assign topics to the documents\n",
    "topic_assignments = lda.transform(X_vectorized)\n",
    "rd4['topic'] = topic_assignments.argmax(axis=1)\n",
    "\n",
    "# Analyze the assigned topics\n",
    "topic_counts = rd4['topic'].value_counts()\n",
    "print(topic_counts)\n",
    "\n"
   ]
  },
  {
   "attachments": {},
   "cell_type": "markdown",
   "metadata": {},
   "source": [
    "Top three topics:\n",
    "\n",
    "1.Topic 15: job, system, tracking, applicant, description\n",
    "\n",
    "2.Topic 3: customer, service, experience, support, product\n",
    "\n",
    "3.Topic 7: training, management, hr, development, learning\n"
   ]
  },
  {
   "attachments": {},
   "cell_type": "markdown",
   "metadata": {},
   "source": [
    "## 2-1-2 Industry Classification using Rule-based Approach with 'keywords' column"
   ]
  },
  {
   "cell_type": "code",
   "execution_count": 67,
   "metadata": {},
   "outputs": [],
   "source": [
    "\n",
    "# # Define the rule-based patterns and their corresponding industries （10 sample industries）\n",
    "# industry_patterns = {\n",
    "#     'Healthcare': ['hospital', 'patient', 'medical', 'nurse', 'doctor'],\n",
    "#     'Technology': ['software', 'technology', 'IT', 'developer', 'programming'],\n",
    "#     'Finance': ['finance', 'banking', 'investment', 'accounting', 'financial'],\n",
    "#     'Education': ['education', 'school', 'teacher', 'learning', 'student'],\n",
    "#     'Retail': ['retail', 'store', 'sales', 'merchandise', 'customer'],\n",
    "#     'Hospitality': ['hospitality', 'hotel', 'restaurant', 'catering', 'guest'],\n",
    "#     'Marketing': ['marketing', 'advertising', 'branding', 'campaign', 'digital'],\n",
    "#     'Consulting': ['consulting', 'strategy', 'management', 'advisor', 'solution'],\n",
    "#     'Manufacturing': ['manufacturing', 'production', 'factory', 'supply', 'equipment'],\n",
    "#     'Transportation': ['transportation', 'logistics', 'shipping', 'fleet', 'delivery']\n",
    "#     # Add more industry patterns as needed\n",
    "# }\n",
    "\n",
    "# # Create a new column to store the assigned industry\n",
    "# rd4['assigned_industry'] = ''\n",
    "\n",
    "# # Iterate through each row and assign the industry based on the keyword patterns\n",
    "# for index, row in rd4.iterrows():\n",
    "#     keywords = row['keywords']\n",
    "#     assigned_industry = None\n",
    "\n",
    "#     # Check for null values\n",
    "#     if pd.notnull(keywords):\n",
    "#         keywords = keywords.lower()\n",
    "        \n",
    "#         # Check for pattern matches\n",
    "#         for industry, patterns in industry_patterns.items():\n",
    "#             if any(pattern in keywords for pattern in patterns):\n",
    "#                 assigned_industry = industry\n",
    "#                 break\n",
    "    \n",
    "#     # Assign the industry to the corresponding row\n",
    "#     rd4.at[index, 'assigned_industry'] = assigned_industry\n",
    "\n",
    "# # Display the assigned industries\n",
    "# print(rd4['assigned_industry'].value_counts())\n",
    "\n"
   ]
  },
  {
   "cell_type": "code",
   "execution_count": 68,
   "metadata": {},
   "outputs": [
    {
     "name": "stdout",
     "output_type": "stream",
     "text": [
      "Retail            2538\n",
      "Consulting        2214\n",
      "Technology        1690\n",
      "Marketing         1112\n",
      "Finance            793\n",
      "Manufacturing      439\n",
      "Transportation     393\n",
      "Education          319\n",
      "Healthcare         257\n",
      "Hospitality         98\n",
      "Name: assigned_industry, dtype: int64\n"
     ]
    }
   ],
   "source": [
    "def prioritize_industries(assigned_industries):\n",
    "    # Calculate the number of occurrences of industry words in the keywords for each industry\n",
    "    industries_scores = {industry: sum(keyword in industry_patterns[industry] for keyword in keywords.lower().split())\n",
    "                         for industry in assigned_industries}\n",
    "\n",
    "    # Sort the industries based on their scores (number of occurrences) in descending order\n",
    "    sorted_industries = sorted(industries_scores.items(), key=lambda x: x[1], reverse=True)\n",
    "\n",
    "    # Return the industry with the highest score (most occurrences) as the final assigned industry\n",
    "    return sorted_industries[0][0] if sorted_industries else None\n",
    "\n",
    "\n",
    "# Define the rule-based patterns and their corresponding industries (10 sample industries)\n",
    "industry_patterns = {\n",
    "    'Healthcare': ['hospital', 'patient', 'medical', 'nurse', 'doctor'],\n",
    "    'Technology': ['software', 'technology', 'IT', 'developer', 'programming'],\n",
    "    'Finance': ['finance', 'banking', 'investment', 'accounting', 'financial'],\n",
    "    'Education': ['education', 'school', 'teacher', 'learning', 'student'],\n",
    "    'Retail': ['retail', 'store', 'sales', 'merchandise', 'customer'],\n",
    "    'Hospitality': ['hospitality', 'hotel', 'restaurant', 'catering', 'guest'],\n",
    "    'Marketing': ['marketing', 'advertising', 'branding', 'campaign', 'digital'],\n",
    "    'Consulting': ['consulting', 'strategy', 'management', 'advisor', 'solution'],\n",
    "    'Manufacturing': ['manufacturing', 'production', 'factory', 'supply', 'equipment'],\n",
    "    'Transportation': ['transportation', 'logistics', 'shipping', 'fleet', 'delivery']\n",
    "    # Add more industry patterns as needed\n",
    "}\n",
    "\n",
    "# Create a new column to store the assigned industry\n",
    "rd4['assigned_industry'] = ''\n",
    "\n",
    "# Iterate through each row and assign the industry based on the keyword patterns\n",
    "for index, row in rd4.iterrows():\n",
    "    keywords = row['keywords']\n",
    "    assigned_industries = set()\n",
    "\n",
    "    # Check for null values\n",
    "    if pd.notnull(keywords):\n",
    "        keywords = keywords.lower()\n",
    "\n",
    "        # Check for pattern matches\n",
    "        for industry, patterns in industry_patterns.items():\n",
    "            if any(pattern in keywords for pattern in patterns):\n",
    "                assigned_industries.add(industry)\n",
    "\n",
    "    # Determine the final assigned industry based on priority or additional criteria\n",
    "    if assigned_industries:\n",
    "        # Use a prioritization mechanism or additional analysis to determine the final assigned industry\n",
    "        final_industry = prioritize_industries(assigned_industries)  \n",
    "        rd4.at[index, 'assigned_industry'] = final_industry\n",
    "    else:\n",
    "        rd4.at[index, 'assigned_industry'] = None  # No matching industry\n",
    "\n",
    "# Display the assigned industries\n",
    "print(rd4['assigned_industry'].value_counts())\n"
   ]
  },
  {
   "cell_type": "code",
   "execution_count": 69,
   "metadata": {},
   "outputs": [
    {
     "data": {
      "text/plain": [
       "0     Education\n",
       "1     Marketing\n",
       "2    Technology\n",
       "3    Consulting\n",
       "4        Retail\n",
       "Name: assigned_industry, dtype: object"
      ]
     },
     "execution_count": 69,
     "metadata": {},
     "output_type": "execute_result"
    }
   ],
   "source": [
    "rd4['assigned_industry'].head()"
   ]
  },
  {
   "cell_type": "code",
   "execution_count": 70,
   "metadata": {},
   "outputs": [
    {
     "data": {
      "text/plain": [
       "0     Education\n",
       "1     Marketing\n",
       "2    Technology\n",
       "3    Consulting\n",
       "4        Retail\n",
       "Name: assigned_industry, dtype: object"
      ]
     },
     "execution_count": 70,
     "metadata": {},
     "output_type": "execute_result"
    }
   ],
   "source": [
    "rd4['assigned_industry'].head()"
   ]
  },
  {
   "cell_type": "code",
   "execution_count": 71,
   "metadata": {},
   "outputs": [
    {
     "data": {
      "image/png": "[encoded data removed]",
      "text/plain": [
       "<Figure size 1000x600 with 1 Axes>"
      ]
     },
     "metadata": {},
     "output_type": "display_data"
    }
   ],
   "source": [
    "# Visualize the top 10 industries\n",
    "industry_counts = rd4['assigned_industry'].value_counts()\n",
    "industry_percentages = (industry_counts / len(rd4)) * 100\n",
    "\n",
    "# Plotting the bar chart\n",
    "plt.figure(figsize=(10, 6))\n",
    "bars = industry_counts.plot(kind='bar', color=['orange' if i < 3 else 'steelblue' for i in range(len(industry_counts))])\n",
    "plt.title(\"Top 10 Industries\")\n",
    "plt.xlabel(\"Industry\")\n",
    "plt.ylabel(\"Count\")\n",
    "plt.xticks(rotation=45)\n",
    "\n",
    "# Adding percentages at the top of each bar\n",
    "for i, v in enumerate(industry_counts):\n",
    "    percentage = industry_percentages[i]\n",
    "    plt.text(i, v, f\"{percentage:.2f}%\", ha='center', va='bottom')\n",
    "\n",
    "plt.tight_layout()\n",
    "plt.show()\n"
   ]
  },
  {
   "cell_type": "code",
   "execution_count": 72,
   "metadata": {},
   "outputs": [
    {
     "data": {
      "text/plain": [
       "Index(['keywords', 'suggestedSkills', 'city', 'state', 'country',\n",
       "       'summary_text', 'accomplishments_text', 'awards_name', 'awards_issuer',\n",
       "       'awards_dateReceived', 'awards_description', 'skills', 'skills_type',\n",
       "       'project_title', 'project_skills', 'project_endDate',\n",
       "       'project_startDate', 'project_description', 'education_GPA',\n",
       "       'education_minor', 'education_awards', 'education_school',\n",
       "       'education_program', 'education_location', 'education_courseWork',\n",
       "       'education_graduationDate', 'volunteer_title', 'volunteer_endDate',\n",
       "       'volunteer_location', 'volunteer_startDate', 'volunteer_description',\n",
       "       'volunteer_organization', 'experience_title', 'experience_company',\n",
       "       'experience_endDate', 'experience_location', 'experience_startDate',\n",
       "       'experience_description', 'references_name', 'references_relationship',\n",
       "       'publications_date', 'publications_name', 'publications_details',\n",
       "       'publications_publisher', 'certifications_name',\n",
       "       'certifications_issuer', 'certifications_dateReceived',\n",
       "       'awards_name_count', 'skills_count', 'project_title_count',\n",
       "       'education_school_count', 'volunteer_endDate_count',\n",
       "       'volunteer_title_count', 'experience_title_count',\n",
       "       'references_name_count', 'publications_name_count',\n",
       "       'certifications_name_count', 'topic', 'assigned_industry'],\n",
       "      dtype='object')"
      ]
     },
     "execution_count": 72,
     "metadata": {},
     "output_type": "execute_result"
    }
   ],
   "source": [
    "rd4.columns"
   ]
  },
  {
   "attachments": {},
   "cell_type": "markdown",
   "metadata": {},
   "source": [
    "## 2-2  Discouver trends in demographics and find which industries yield the best and the worst resumes\n",
    "### (Missing)"
   ]
  },
  {
   "attachments": {},
   "cell_type": "markdown",
   "metadata": {},
   "source": [
    "## 2-3 Determine the age range and experience level"
   ]
  },
  {
   "cell_type": "code",
   "execution_count": 73,
   "metadata": {},
   "outputs": [
    {
     "data": {
      "image/png": "[encoded data removed]",
      "text/plain": [
       "<Figure size 640x480 with 1 Axes>"
      ]
     },
     "metadata": {},
     "output_type": "display_data"
    }
   ],
   "source": [
    "# Extract the age from graduation year assuming the average graduation age is 23\n",
    "rnd4['graduation_year'] = rnd4['education_graduationDate'].str.extract(r'(\\d{4})').astype(float) # only extract the first occurrence of a four-digit number (year) within each date value\n",
    "rnd4['age'] = 2046 - rnd4['graduation_year']\n",
    "\n",
    "# Plot the histogram\n",
    "plt.hist(rnd4['age'], bins=20, color='steelblue', edgecolor='black', linewidth=1.2, density=True)\n",
    "plt.xlabel('Age')\n",
    "plt.ylabel('Frequency')\n",
    "plt.title('Histogram of Age for Job Seekers')\n",
    "\n",
    "sns.kdeplot(rnd4[rnd4['age'] > 0]['age'], color='orange', linewidth=1.5, linestyle='-')\n",
    "plt.show()\n"
   ]
  },
  {
   "cell_type": "code",
   "execution_count": 74,
   "metadata": {},
   "outputs": [
    {
     "data": {
      "text/plain": [
       "count    7195.000000\n",
       "mean       26.621126\n",
       "std         4.856506\n",
       "min        16.000000\n",
       "25%        23.000000\n",
       "50%        25.000000\n",
       "75%        29.000000\n",
       "max        69.000000\n",
       "Name: age, dtype: float64"
      ]
     },
     "execution_count": 74,
     "metadata": {},
     "output_type": "execute_result"
    }
   ],
   "source": [
    "rnd4['age'].describe()"
   ]
  },
  {
   "cell_type": "code",
   "execution_count": 75,
   "metadata": {},
   "outputs": [
    {
     "name": "stdout",
     "output_type": "stream",
     "text": [
      "          experience_title experience_level\n",
      "0      Lead IPM Technic...      Entry Level\n",
      "1      UI/UX Designer, ...              NaN\n",
      "2      Software Enginee...      Entry Level\n",
      "3      CRM Specialist, ...              NaN\n",
      "4      Customer Support...              NaN\n",
      "...                    ...              ...\n",
      "11971  Videographer/Vid...      Entry Level\n",
      "11972  Video Editor, Ph...        Mid Level\n",
      "11973  Teacher, Clerk-T...              NaN\n",
      "11974  Video Editor, Ph...              NaN\n",
      "11975  Video Editor, Ph...        Mid Level\n",
      "\n",
      "[11976 rows x 2 columns]\n"
     ]
    }
   ],
   "source": [
    "rd4['experience_count'] = rd4['experience_title'].str.count(',') + 1\n",
    "\n",
    "# Define the experience levels\n",
    "experience_levels = {\n",
    "    2: 'Entry Level',\n",
    "    4: 'Mid Level',\n",
    "    6: 'Senior Level',\n",
    "    8: 'Executive Level',\n",
    "    # Add more levels as needed\n",
    "}\n",
    "\n",
    "# Assign the experience level based on the count\n",
    "rd4['experience_level'] = rd4['experience_count'].map(experience_levels)\n",
    "\n",
    "# Display the result\n",
    "print(rd4[['experience_title', 'experience_level']])\n"
   ]
  },
  {
   "cell_type": "code",
   "execution_count": 76,
   "metadata": {},
   "outputs": [
    {
     "data": {
      "image/png": "[encoded data removed]",
      "text/plain": [
       "<Figure size 640x480 with 1 Axes>"
      ]
     },
     "metadata": {},
     "output_type": "display_data"
    }
   ],
   "source": [
    "# Define the custom order of experience levels\n",
    "custom_order = ['Entry Level', 'Mid Level', 'Senior Level', 'Executive Level']\n",
    "# Sort the experience counts based on the custom order\n",
    "experience_counts = rd4['experience_level'].value_counts().loc[custom_order]\n",
    "\n",
    "plt.bar(experience_counts.index, experience_counts.values)\n",
    "plt.ylabel('Count')\n",
    "plt.title('Distribution of Experience Levels')\n",
    "\n",
    "# Adding count labels at the top of each bar\n",
    "for i, count in enumerate(experience_counts.values):\n",
    "    plt.text(i, count, str(count), ha='center', va='bottom')\n",
    "\n",
    "# Rotating the x-axis labels for better readability\n",
    "plt.xticks(rotation=45)\n",
    "plt.show()\n"
   ]
  },
  {
   "attachments": {},
   "cell_type": "markdown",
   "metadata": {},
   "source": [
    "## 2-4-1 Determine trends in skills"
   ]
  },
  {
   "cell_type": "code",
   "execution_count": 77,
   "metadata": {},
   "outputs": [
    {
     "name": "stdout",
     "output_type": "stream",
     "text": [
      "Excel - 1871\n",
      "Python - 1668\n",
      "SQL - 1169\n",
      "JavaScript - 1097\n",
      "HTML - 1022\n",
      "Word - 940\n",
      "PowerPoint - 885\n",
      "CSS - 824\n",
      "Tableau - 783\n",
      "Communication - 765\n",
      "Microsoft Office - 686\n",
      "Project Management - 673\n",
      "Microsoft Office Suite - 639\n",
      "Git - 629\n",
      "Trello - 587\n"
     ]
    }
   ],
   "source": [
    "from collections import Counter\n",
    "\n",
    "skills = rd4['skills']\n",
    "skills = skills.astype(str)\n",
    "skills = skills.dropna().str.split(', ')\n",
    "# Flatten the list of skills and remove empty or whitespace-only skills\n",
    "all_skills = [skill.strip() for sublist in skills for skill in sublist if skill.strip() != '']  # and revove the empty strings\n",
    "# Calculate skill frequencies\n",
    "skill_frequencies = Counter(all_skills)\n",
    "\n",
    "# Exclude missing values from the skill frequencies\n",
    "skill_frequencies = {skill: frequency for skill, frequency in skill_frequencies.items() if skill != 'nan'}\n",
    "\n",
    "# Sort the skill frequencies in descending order\n",
    "sorted_skills = sorted(skill_frequencies.items(), key=lambda x: x[1], reverse=True)\n",
    "\n",
    "# Select the top N skills\n",
    "top_skills = sorted_skills[:15]  # Change the number as per your requirement\n",
    "\n",
    "# Print the top skills and their frequencies\n",
    "for skill, frequency in top_skills:\n",
    "    print(skill, \"-\", frequency)\n"
   ]
  },
  {
   "cell_type": "code",
   "execution_count": 78,
   "metadata": {},
   "outputs": [
    {
     "data": {
      "image/png": "[encoded data removed]",
      "text/plain": [
       "<Figure size 640x480 with 1 Axes>"
      ]
     },
     "metadata": {},
     "output_type": "display_data"
    }
   ],
   "source": [
    "# Extract the skills and frequencies, excluding empty skills\n",
    "skills = [skill for skill, _ in top_skills]\n",
    "frequencies = [frequency for skill, frequency in top_skills]\n",
    "\n",
    "# Reverse the lists to plot in descending order\n",
    "skills.reverse()\n",
    "frequencies.reverse()\n",
    "\n",
    "plt.barh(skills, frequencies,color='salmon')\n",
    "plt.xlabel('Frequency')\n",
    "plt.ylabel('Skills')\n",
    "plt.title('Top Skills Frequencies')\n",
    "plt.show()\n"
   ]
  },
  {
   "cell_type": "code",
   "execution_count": 79,
   "metadata": {},
   "outputs": [
    {
     "name": "stdout",
     "output_type": "stream",
     "text": [
      "Manager - 820\n",
      "Management - 789\n",
      "Office - 772\n",
      "Microsoft - 772\n",
      "English - 591\n",
      "Business - 472\n",
      "Customer - 455\n",
      "Marketing - 400\n",
      "Development - 393\n",
      "Excel - 338\n",
      "Manage - 334\n",
      "Operations - 295\n",
      "Suite - 290\n",
      "Systems - 290\n",
      "Sales - 225\n"
     ]
    }
   ],
   "source": [
    "skills = rd4['suggestedSkills']\n",
    "skills = skills.astype(str)\n",
    "skills = skills.dropna().str.split(', ')\n",
    "# Flatten the list of skills\n",
    "all_skills = [skill.strip() for sublist in skills for skill in sublist if skill.strip() != '']  # and revove the empty strings\n",
    "\n",
    "# Calculate skill frequencies\n",
    "skill_frequencies = Counter(all_skills)\n",
    "\n",
    "# Exclude missing values from the skill frequencies\n",
    "skill_frequencies = {skill: frequency for skill, frequency in skill_frequencies.items() if skill != 'nan'}\n",
    "\n",
    "# Sort the skill frequencies in descending order\n",
    "sorted_skills = sorted(skill_frequencies.items(), key=lambda x: x[1], reverse=True)\n",
    "\n",
    "# Select the top N skills\n",
    "top_skills = sorted_skills[:15]  # Change the number as per your requirement\n",
    "\n",
    "# Print the top skills and their frequencies\n",
    "for skill, frequency in top_skills:\n",
    "    print(skill, \"-\", frequency)\n"
   ]
  },
  {
   "cell_type": "code",
   "execution_count": 80,
   "metadata": {},
   "outputs": [
    {
     "data": {
      "image/png": "[encoded data removed]",
      "text/plain": [
       "<Figure size 640x480 with 1 Axes>"
      ]
     },
     "metadata": {},
     "output_type": "display_data"
    }
   ],
   "source": [
    "# Extract the skills and frequencies\n",
    "skills = [skill for skill, _ in top_skills]\n",
    "frequencies = [frequency for _, frequency in top_skills]\n",
    "\n",
    "# Choose a palette\n",
    "palette = \"pastel\"  # Example palette, you can choose any other palette\n",
    "\n",
    "# Create the bar plot using seaborn\n",
    "sns.barplot(x=frequencies, y=skills, palette=palette)\n",
    "plt.xlabel('Frequency')\n",
    "plt.ylabel('Skills')\n",
    "plt.title('Top Suggested Skills Frequencies')\n",
    "plt.show()\n",
    "\n"
   ]
  },
  {
   "attachments": {},
   "cell_type": "markdown",
   "metadata": {},
   "source": [
    "## 2-4-2 Determine Trends in Experiences"
   ]
  },
  {
   "attachments": {},
   "cell_type": "markdown",
   "metadata": {},
   "source": [
    "#### Top Experience Titles"
   ]
  },
  {
   "cell_type": "code",
   "execution_count": 81,
   "metadata": {},
   "outputs": [
    {
     "name": "stdout",
     "output_type": "stream",
     "text": [
      "Photographer & Editor - 434\n",
      "Intern - 364\n",
      "Project Manager - 338\n",
      "Sales Associate - 328\n",
      "Video Editor (Remote) - 298\n",
      "Customer Service Representative - 281\n",
      "Graphic Web Designer & Developer (Remote) - 278\n",
      "Video Editor - 235\n",
      "Project Officer - 194\n",
      "CTO - 177\n",
      "Research Assistant - 167\n",
      "Field Manager - 164\n",
      "Field Officer - 162\n",
      "Summer Analyst - 160\n",
      "Systems Engineer Intern - 159\n"
     ]
    }
   ],
   "source": [
    "from collections import Counter\n",
    "\n",
    "experience_titles = rd4['experience_title']\n",
    "experience_titles = experience_titles.astype(str)\n",
    "experience_titles = experience_titles.dropna().str.split(', ')\n",
    "# Flatten the list of experience titles\n",
    "all_titles = [title.strip() for sublist in experience_titles for title in sublist if title.strip() != '']\n",
    "# Calculate title frequencies\n",
    "title_freqencies = Counter(all_titles)\n",
    "\n",
    "# Exclude missing values from the skill frequencies\n",
    "title_frequencies = {title: frequency for title, frequency in title_freqencies.items() if title != 'nan'}\n",
    "\n",
    "# Sort the title frequencies in descending order\n",
    "sorted_titles = sorted(title_frequencies.items(), key=lambda x: x[1], reverse=True)\n",
    "\n",
    "# Select the top N titles\n",
    "top_titles = sorted_titles[:15]  # Change the number as per your requirement\n",
    "\n",
    "# Print the top titles and their frequencies\n",
    "for title, frequency in top_titles:\n",
    "    print(title, \"-\", frequency)"
   ]
  },
  {
   "cell_type": "code",
   "execution_count": 82,
   "metadata": {},
   "outputs": [
    {
     "data": {
      "image/png": "[encoded data removed]",
      "text/plain": [
       "<Figure size 640x480 with 1 Axes>"
      ]
     },
     "metadata": {},
     "output_type": "display_data"
    }
   ],
   "source": [
    "# Extract the titles and frequencies, excluding empty titles\n",
    "titles = [title for title, frequency in top_titles if title != '']\n",
    "frequencies = [frequency for title, frequency in top_titles if title != '']\n",
    "\n",
    "# Reverse the lists to plot in descending order\n",
    "titles.reverse()\n",
    "frequencies.reverse()\n",
    "\n",
    "plt.barh(titles, frequencies,color='mediumaquamarine')\n",
    "plt.xlabel('Frequency')\n",
    "plt.ylabel('Titles')\n",
    "plt.title('Top Experience Titles')\n",
    "plt.show()"
   ]
  },
  {
   "attachments": {},
   "cell_type": "markdown",
   "metadata": {},
   "source": [
    "#### Top Experience Companies"
   ]
  },
  {
   "cell_type": "code",
   "execution_count": 83,
   "metadata": {},
   "outputs": [
    {
     "name": "stdout",
     "output_type": "stream",
     "text": [
      "Best View Imaging - 434\n",
      "Livingstonia Synod AIDS Programme (LISAP) - 326\n",
      "Lamacchia Realty - 300\n",
      "The Master Teacher - 298\n",
      "Gifts Just For You - 278\n",
      "Goldman Sachs - 246\n",
      "Gifted music records - 224\n",
      "Amazon - 197\n",
      "Inc. - 179\n",
      "LLC - 178\n",
      "THE UNIVERSITY OF NORTH TEXAS HEALTH SCIENCE CENTER - 178\n",
      "Freelance - 165\n",
      "Nguvu Foundation - 165\n",
      "Give Directly - 163\n",
      "CoverQuick - 159\n"
     ]
    }
   ],
   "source": [
    "from collections import Counter\n",
    "\n",
    "experience_companies = rd4['experience_company']\n",
    "experience_companies = experience_companies.astype(str)\n",
    "experience_companies = experience_companies.dropna().str.split(', ')\n",
    "# Flatten the list\n",
    "all_companies = [company.strip() for sublist in experience_companies for company in sublist if company.strip() != '']\n",
    "# Calculate title frequencies\n",
    "company_freqencies = Counter(all_companies)\n",
    "\n",
    "# Exclude missing values\n",
    "company_frequencies = {company: frequency for company, frequency in company_freqencies.items() if company != 'nan'}\n",
    "\n",
    "# Sort the company frequencies in descending order\n",
    "sorted_companies = sorted(company_frequencies.items(), key=lambda x: x[1], reverse=True)\n",
    "\n",
    "# Select the top N companies\n",
    "top_companies = sorted_companies[:15]  # Change the number as per your requirement\n",
    "\n",
    "# Print the top companies and their frequencies\n",
    "for company, frequency in top_companies:\n",
    "    print(company, \"-\", frequency)"
   ]
  },
  {
   "cell_type": "code",
   "execution_count": 84,
   "metadata": {},
   "outputs": [
    {
     "data": {
      "image/png": "[encoded data removed]",
      "text/plain": [
       "<Figure size 640x480 with 1 Axes>"
      ]
     },
     "metadata": {},
     "output_type": "display_data"
    }
   ],
   "source": [
    "# Extract the companies and frequencies, excluding empty companies\n",
    "companies = [company for company, frequency in top_companies if title != '']\n",
    "frequencies = [frequency for company, frequency in top_companies if title != '']\n",
    "\n",
    "# Reverse the lists to plot in descending order\n",
    "companies.reverse()\n",
    "frequencies.reverse()\n",
    "\n",
    "# Remove sixth and seventh bars from the bottom\n",
    "companies_modified = companies[:5] + companies[7:]\n",
    "frequencies_modified = frequencies[:5] + frequencies[7:]\n",
    "\n",
    "plt.barh(companies_modified, frequencies_modified,color='plum')\n",
    "plt.xlabel('Frequency')\n",
    "plt.ylabel('Companies')\n",
    "plt.title('Top Experience Companies')\n",
    "plt.show()"
   ]
  },
  {
   "attachments": {},
   "cell_type": "markdown",
   "metadata": {},
   "source": [
    "#### Top Experience Title Counts"
   ]
  },
  {
   "cell_type": "code",
   "execution_count": 85,
   "metadata": {},
   "outputs": [
    {
     "name": "stdout",
     "output_type": "stream",
     "text": [
      "2 - 3205\n",
      "3 - 2384\n",
      "1 - 1775\n",
      "0 - 1758\n",
      "4 - 1320\n",
      "5 - 679\n",
      "6 - 365\n",
      "7 - 140\n",
      "9 - 131\n",
      "8 - 130\n"
     ]
    }
   ],
   "source": [
    "from collections import Counter\n",
    "\n",
    "counts = rd4['experience_title_count']\n",
    "counts = counts.astype(str)\n",
    "counts = counts.dropna().str.split(', ')\n",
    "# Flatten the list\n",
    "all_counts = [count.strip() for sublist in counts for count in sublist if count.strip() != '']\n",
    "# Calculate count frequencies\n",
    "count_freqencies = Counter(all_counts)\n",
    "\n",
    "# Exclude missing values\n",
    "count_frequencies = {count: frequency for count, frequency in count_freqencies.items() if count != 'nan'}\n",
    "\n",
    "# Sort the count frequencies in descending order\n",
    "sorted_counts = sorted(count_frequencies.items(), key=lambda x: x[1], reverse=True)\n",
    "\n",
    "# Select the top N counts\n",
    "top_counts = sorted_counts[:10]  # Change the number as per your requirement\n",
    "\n",
    "# Print the top counts and their frequencies\n",
    "for count, frequency in top_counts:\n",
    "    print(count, \"-\", frequency)"
   ]
  },
  {
   "cell_type": "code",
   "execution_count": 86,
   "metadata": {},
   "outputs": [
    {
     "data": {
      "image/png": "[encoded data removed]",
      "text/plain": [
       "<Figure size 640x480 with 1 Axes>"
      ]
     },
     "metadata": {},
     "output_type": "display_data"
    }
   ],
   "source": [
    "# Extract the counts and frequencies, excluding empty counts\n",
    "counts = [count for count, frequency in top_counts if count != '']\n",
    "frequencies = [frequency for count, frequency in top_counts if count != '']\n",
    "\n",
    "# Reverse the lists to plot in descending order\n",
    "counts.reverse()\n",
    "frequencies.reverse()\n",
    "\n",
    "plt.barh(counts, frequencies,color='bisque')\n",
    "plt.xlabel('Frequency')\n",
    "plt.ylabel('Experience Title Count')\n",
    "plt.title('Top Experience Title Count')\n",
    "plt.show()"
   ]
  },
  {
   "attachments": {},
   "cell_type": "markdown",
   "metadata": {},
   "source": [
    "#### Top Experience Locations"
   ]
  },
  {
   "cell_type": "code",
   "execution_count": 87,
   "metadata": {},
   "outputs": [
    {
     "name": "stdout",
     "output_type": "stream",
     "text": [
      "Remote - 1878\n",
      "Nairobi - 1189\n",
      "CA - 1067\n",
      "Toronto - 1053\n",
      "NY - 1026\n",
      "MA - 985\n",
      "New York - 880\n",
      "Nigeria - 806\n",
      "Kenya - 800\n",
      "Ghana - 786\n",
      "Lagos - 782\n",
      "FL - 650\n",
      "TX - 602\n",
      "ON - 593\n",
      "London - 547\n"
     ]
    }
   ],
   "source": [
    "from collections import Counter\n",
    "\n",
    "locations = rd4['experience_location']\n",
    "locations = locations.astype(str)\n",
    "locations = locations.dropna().str.split(', ')\n",
    "# Flatten the list\n",
    "all_locations = [location.strip() for sublist in locations for location in sublist if location.strip() != '']\n",
    "# Calculate location frequencies\n",
    "location_freqencies = Counter(all_locations)\n",
    "\n",
    "# Exclude missing values\n",
    "location_frequencies = {location: frequency for location, frequency in location_freqencies.items() if location != 'nan'}\n",
    "\n",
    "# Sort the location frequencies in descending order\n",
    "sorted_locations = sorted(location_frequencies.items(), key=lambda x: x[1], reverse=True)\n",
    "\n",
    "# Select the top N locations\n",
    "top_locations = sorted_locations[:15]  # Change the number as per your requirement\n",
    "\n",
    "# Print the top locations and their frequencies\n",
    "for location, frequency in top_locations:\n",
    "    print(location, \"-\", frequency)"
   ]
  },
  {
   "cell_type": "code",
   "execution_count": 88,
   "metadata": {},
   "outputs": [
    {
     "data": {
      "image/png": "[encoded data removed]",
      "text/plain": [
       "<Figure size 640x480 with 1 Axes>"
      ]
     },
     "metadata": {},
     "output_type": "display_data"
    }
   ],
   "source": [
    "# Extract the locations and frequencies, excluding empty companies\n",
    "locations = [location for location, frequency in top_locations if location != '']\n",
    "frequencies = [frequency for location, frequency in top_locations if location != '']\n",
    "\n",
    "# Reverse the lists to plot in descending order\n",
    "locations.reverse()\n",
    "frequencies.reverse()\n",
    "\n",
    "plt.barh(locations, frequencies,color='powderblue')\n",
    "plt.xlabel('Frequency')\n",
    "plt.ylabel('Experience Location')\n",
    "plt.title('Top Experience Location')\n",
    "plt.show()"
   ]
  },
  {
   "attachments": {},
   "cell_type": "markdown",
   "metadata": {},
   "source": [
    "# 3 Resume Quality"
   ]
  },
  {
   "attachments": {},
   "cell_type": "markdown",
   "metadata": {},
   "source": [
    "## 3-1 Important Sections (work experience, education, project)"
   ]
  },
  {
   "cell_type": "code",
   "execution_count": 89,
   "metadata": {},
   "outputs": [],
   "source": [
    "import pandas as pd\n",
    "\n",
    "df_section = rd4[[\"experience_title_count\",\"education_school_count\",\"project_title_count\"]]"
   ]
  },
  {
   "cell_type": "code",
   "execution_count": 90,
   "metadata": {},
   "outputs": [
    {
     "name": "stdout",
     "output_type": "stream",
     "text": [
      "Number of rows with all column values at least 1: 737\n"
     ]
    }
   ],
   "source": [
    "# Count the number of rows where all column values are at least 1\n",
    "count = len(df_section[(df_section >= 1).all(axis=1)])\n",
    "\n",
    "# Print the result\n",
    "print(\"Number of rows with all column values at least 1:\", count)"
   ]
  },
  {
   "cell_type": "code",
   "execution_count": 91,
   "metadata": {},
   "outputs": [
    {
     "data": {
      "text/plain": [
       "(11976, 61)"
      ]
     },
     "execution_count": 91,
     "metadata": {},
     "output_type": "execute_result"
    }
   ],
   "source": [
    "rd4.shape"
   ]
  },
  {
   "attachments": {},
   "cell_type": "markdown",
   "metadata": {},
   "source": [
    "## 3-2 Excessive Bullet Points (more than 10)"
   ]
  },
  {
   "cell_type": "code",
   "execution_count": 92,
   "metadata": {},
   "outputs": [
    {
     "name": "stdout",
     "output_type": "stream",
     "text": [
      "                  keywords      suggestedSkills  ... experience_level  \\\n",
      "0      admissions repre...  Compliance, Clie...  ...      Entry Level   \n",
      "1      dashboard interf...  Analysis, Collec...  ...              NaN   \n",
      "2      product,  design...  Vue, DevOps, Del...  ...      Entry Level   \n",
      "3      flexibility,  in...                  NaN  ...              NaN   \n",
      "4      product roadmaps...            Curiosity  ...              NaN   \n",
      "...                    ...                  ...  ...              ...   \n",
      "11971  content,  ideati...  Instagram, Calen...  ...      Entry Level   \n",
      "11972  adobe premiere, ...  Broadcast, Promo...  ...        Mid Level   \n",
      "11973  write,  content,...                  NaN  ...              NaN   \n",
      "11974  accountable,  ch...                  NaN  ...              NaN   \n",
      "11975  product,  produc...          Communicate  ...        Mid Level   \n",
      "\n",
      "      bullet_point_count  \n",
      "0                      7  \n",
      "1                      0  \n",
      "2                      7  \n",
      "3                      4  \n",
      "4                      3  \n",
      "...                  ...  \n",
      "11971                  2  \n",
      "11972                 19  \n",
      "11973                  4  \n",
      "11974                 20  \n",
      "11975                 20  \n",
      "\n",
      "[11976 rows x 62 columns]\n"
     ]
    }
   ],
   "source": [
    "# Assuming you have a DataFrame named 'df' with the relevant columns\n",
    "columns_to_check = [\"volunteer_description\", \"accomplishments_text\", \"project_description\", \"experience_description\", \"publications_details\"]\n",
    "\n",
    "# Define a function to count bullet points in a given text\n",
    "def count_bullet_points(text):\n",
    "    if isinstance(text, str):\n",
    "        return text.count('-')  # Change the bullet point character as needed\n",
    "    else:\n",
    "        return 0\n",
    "\n",
    "# Apply the function to each row and assign the counts to a new column\n",
    "rd4['bullet_point_count'] = rd4[columns_to_check].apply(lambda row: sum(count_bullet_points(row[col]) for col in columns_to_check), axis=1)\n",
    "\n",
    "# Print the DataFrame with the new column\n",
    "print(rd4)"
   ]
  },
  {
   "cell_type": "code",
   "execution_count": 93,
   "metadata": {},
   "outputs": [
    {
     "data": {
      "image/png": "[encoded data removed]",
      "text/plain": [
       "<Figure size 640x480 with 1 Axes>"
      ]
     },
     "metadata": {},
     "output_type": "display_data"
    }
   ],
   "source": [
    "rd4.groupby('assigned_industry')['bullet_point_count'].mean().plot(kind='bar')\n",
    "\n",
    "# Adding labels and title\n",
    "plt.xlabel('Assigned Industry')\n",
    "plt.ylabel('Mean Bullet Point Count')\n",
    "plt.title('Mean Bullet Point Count by Assigned Industry')\n",
    "\n",
    "# Rotating x-axis labels if needed\n",
    "plt.xticks(rotation=45)\n",
    "\n",
    "# Displaying the plot\n",
    "plt.show()"
   ]
  },
  {
   "attachments": {},
   "cell_type": "markdown",
   "metadata": {},
   "source": [
    "## 3-3 Resume Length(ideal: 300-500 words)"
   ]
  },
  {
   "cell_type": "code",
   "execution_count": 94,
   "metadata": {},
   "outputs": [],
   "source": [
    "rd4['totalwords'] = rd4.apply(lambda row: sum([len(str(x).split()) for x in row]), axis=1)"
   ]
  },
  {
   "cell_type": "code",
   "execution_count": 95,
   "metadata": {},
   "outputs": [
    {
     "data": {
      "image/png": "[encoded data removed]",
      "text/plain": [
       "<Figure size 640x480 with 1 Axes>"
      ]
     },
     "metadata": {},
     "output_type": "display_data"
    }
   ],
   "source": [
    "# Plot the distribution of word_count_column\n",
    "plt.hist(rd4['totalwords'], bins=20)\n",
    "plt.xlabel('Word Count')\n",
    "plt.ylabel('Frequency')\n",
    "plt.title('Distribution of Word Count')\n",
    "plt.show()"
   ]
  },
  {
   "attachments": {},
   "cell_type": "markdown",
   "metadata": {},
   "source": [
    "## 3-4 Use of Action Verbs (in each bullet point of each user's resume)"
   ]
  },
  {
   "cell_type": "code",
   "execution_count": 96,
   "metadata": {},
   "outputs": [
    {
     "name": "stdout",
     "output_type": "stream",
     "text": [
      "['Administered', 'Assigned', 'Authorized', 'Coached', 'Coordinated', 'Developed', 'Directed', 'Empowered', 'Enabled', 'Enforced', 'Established', 'Facilitated', 'Guided', 'Headed', 'Implemented', 'Initiated', 'Operated', 'Orchestrated', 'Organized', 'Overhauled', 'Oversaw', 'Presided', 'Spearheaded', 'Streamlined', 'Supervised', 'Adapted', 'Authored', 'Composed', 'Conceived', 'Conceptualized', 'Curated', 'Designed', 'Directed', 'Drafted', 'Edited', 'Illustrated', 'Performed', 'Photographed', 'Proofread', 'Published', 'Revised', 'Storyboarded', 'Translated', 'Wrote', 'Accomplished', 'Actualized', 'Administered', 'Completed', 'Developed', 'Enforced', 'Executed', 'Fulfilled', 'Implemented', 'Operated', 'Organized', 'Performed', 'Prepared', 'Realized', 'Aided', 'Assisted', 'Coached', 'Co-authored', 'Collaborated', 'Cooperated', 'Coproduced', 'Fostered', 'Helped', 'Joined', 'Married', 'Melded', 'Merged', 'Motivated', 'Participated', 'Partnered', 'Persuaded', 'Supported', 'Teamed', 'Trained', 'Addressed', 'Authored', 'Corresponded', 'Critiqued', 'Documented', 'Edited', 'Explained', 'Interpreted', 'Instructed', 'Lectured', 'Lobbied', 'Mediated', 'Moderated', 'Performed', 'Persuaded', 'Presented', 'Promoted', 'Proposed', 'Spoke', 'Wrote', 'Accomplished', 'Accelerated', 'Achieved', 'Attained', 'Boosted', 'Completed', 'Decreased', 'Delivered', 'Drove', 'Exceeded', 'Expanded', 'Expedited', 'Grew', 'Improved', 'Maximized', 'Outperformed', 'Raised', 'Reached', 'Strengthened', 'Surpassed', 'Analyzed', 'Assessed', 'Collected', 'Diagnosed', 'Discovered', 'Evaluated', 'Examined', 'Explored', 'Forecasted', 'Gathered', 'Inspected', 'Investigated', 'Mapped', 'Measured', 'Probed', 'Reported', 'Researched', 'Studied', 'Surveyed', 'Tested', 'Adjusted', 'Analyzed', 'Appraised', 'Assessed', 'Audited', 'Balanced', 'Budgeted', 'Calculated', 'Converted', 'Estimated', 'Evaluated', 'Forecasted', 'Invested', 'Lowered', 'Measured', 'Netted', 'Projected', 'Qualified', 'Reduced', 'Researched', 'Coded', 'Computed', 'Constructed', 'Debugged', 'Deployed', 'Designed', 'Developed', 'Devised', 'Diagnosed', 'Engineered', 'Maintained', 'Modified', 'Networked', 'Operated', 'Overhauled', 'Programmed', 'Standardized', 'Tested', 'Updated', 'Upgraded', 'Advised', 'Coached', 'Communicated', 'Encouraged', 'Evaluated', 'Explained', 'Guided', 'Individualized', 'Instructed', 'Lectured', 'Motivated', 'Persuaded', 'Set', 'goals', 'Stimulated', 'Taught', 'Tested', 'Tutored', 'Worked', 'Responsible', 'Managed', 'Led', 'Assisted']\n",
      "201\n"
     ]
    }
   ],
   "source": [
    "import pandas as pd\n",
    "import re\n",
    "\n",
    "# Define a list of 201 action verbs\n",
    "words = '''Administered Assigned Authorized Coached Coordinated Developed Directed Empowered Enabled Enforced Established Facilitated Guided\n",
    " Headed Implemented Initiated Operated Orchestrated Organized Overhauled Oversaw Presided Spearheaded Streamlined Supervised Adapted Authored \n",
    " Composed Conceived Conceptualized Curated Designed Directed Drafted Edited Illustrated Performed Photographed Proofread Published Revised \n",
    " Storyboarded Translated Wrote Accomplished Actualized Administered Completed Developed Enforced Executed Fulfilled Implemented Operated \n",
    " Organized Performed Prepared Realized Aided Assisted Coached Co-authored Collaborated Cooperated Coproduced Fostered Helped Joined Married \n",
    " Melded Merged Motivated Participated Partnered Persuaded Supported Teamed Trained Addressed Authored Corresponded Critiqued Documented \n",
    " Edited Explained Interpreted Instructed Lectured Lobbied Mediated Moderated Performed Persuaded Presented Promoted Proposed Spoke Wrote \n",
    " Accomplished Accelerated Achieved Attained Boosted Completed Decreased Delivered Drove Exceeded Expanded Expedited Grew Improved Maximized \n",
    " Outperformed Raised Reached Strengthened Surpassed Analyzed Assessed Collected Diagnosed Discovered Evaluated Examined Explored Forecasted \n",
    " Gathered Inspected Investigated Mapped Measured Probed Reported Researched Studied Surveyed Tested Adjusted Analyzed Appraised Assessed \n",
    " Audited Balanced Budgeted Calculated Converted Estimated Evaluated Forecasted Invested Lowered Measured Netted Projected Qualified Reduced \n",
    " Researched Coded Computed Constructed Debugged Deployed Designed Developed Devised Diagnosed Engineered Maintained Modified Networked \n",
    " Operated Overhauled Programmed Standardized Tested Updated Upgraded Advised Coached Communicated Encouraged Evaluated Explained Guided \n",
    " Individualized Instructed Lectured Motivated Persuaded Set goals Stimulated Taught Tested Tutored Worked Responsible Managed Led Assisted'''\n",
    "word_list = words.split()\n",
    "\n",
    "# Convert each element to string\n",
    "word_list = list(map(str, word_list))  \n",
    "\n",
    "print(word_list)\n",
    "print(len(word_list))"
   ]
  },
  {
   "cell_type": "code",
   "execution_count": 102,
   "metadata": {},
   "outputs": [
    {
     "name": "stdout",
     "output_type": "stream",
     "text": [
      "Number of action verbs in each row:\n",
      "0        11\n",
      "1        17\n",
      "2        14\n",
      "3         6\n",
      "4        10\n",
      "         ..\n",
      "11971     8\n",
      "11972    31\n",
      "11973    16\n",
      "11974    28\n",
      "11975    31\n",
      "Length: 11976, dtype: int64\n"
     ]
    }
   ],
   "source": [
    "# select columns that have bullet points of descriptions\n",
    "columns_to_check = [\"volunteer_description\", \"accomplishments_text\", \"project_description\", \"experience_description\", \"publications_details\"]\n",
    "\n",
    "action_verbs = word_list\n",
    "\n",
    "# Count the occurrences of action verbs in each row\n",
    "verb_count = rd4[columns_to_check].apply(lambda row: sum(1 for verb in action_verbs if any(re.findall(r'\\b{}\\b'.format(verb), str(row[column]), re.IGNORECASE) for column in rd4[columns_to_check].columns)), axis=1)\n",
    "\n",
    "# Print the result\n",
    "print(\"Number of action verbs in each row:\")\n",
    "print(verb_count)"
   ]
  },
  {
   "cell_type": "code",
   "execution_count": 119,
   "metadata": {},
   "outputs": [
    {
     "name": "stdout",
     "output_type": "stream",
     "text": [
      "0 54 11.0 10.0 56.5 7.5\n"
     ]
    }
   ],
   "source": [
    "# Basic statistical characteristics of the verb_count variable\n",
    "import numpy as np\n",
    "\n",
    "min = np.amin(verb_count)\n",
    "max = np.amax(verb_count)\n",
    "mean = round(np.mean(verb_count),1)\n",
    "median = round(np.median(verb_count),1)\n",
    "variance = round(np.var(verb_count),1)\n",
    "sd = round(np.std(verb_count),1)\n",
    "\n",
    "print(min,max,mean,median,variance,sd)"
   ]
  },
  {
   "cell_type": "code",
   "execution_count": 120,
   "metadata": {},
   "outputs": [
    {
     "name": "stdout",
     "output_type": "stream",
     "text": [
      "0        11\n",
      "1        17\n",
      "2        14\n",
      "3         6\n",
      "4        10\n",
      "         ..\n",
      "11971     8\n",
      "11972    31\n",
      "11973    16\n",
      "11974    28\n",
      "11975    31\n",
      "Name: total_action_verb, Length: 11976, dtype: int64 0        1.571429\n",
      "1             inf\n",
      "2        2.000000\n",
      "3        1.500000\n",
      "4        3.333333\n",
      "           ...   \n",
      "11971    4.000000\n",
      "11972    1.631579\n",
      "11973    4.000000\n",
      "11974    1.400000\n",
      "11975    1.550000\n",
      "Name: avg_action_verb, Length: 11976, dtype: float64\n"
     ]
    },
    {
     "data": {
      "image/png": "[encoded data removed]",
      "text/plain": [
       "<Figure size 640x480 with 1 Axes>"
      ]
     },
     "metadata": {},
     "output_type": "display_data"
    }
   ],
   "source": [
    "# Calculate the average number of action verbs in each bullet point for each resume\n",
    "rd4['total_action_verb'] = verb_count\n",
    "rd4['avg_action_verb'] = rd4['total_action_verb']/rd4['bullet_point_count']\n",
    "print(rd4['total_action_verb'],rd4['avg_action_verb'])\n",
    "\n",
    "# Plot a frequency historgram\n",
    "import matplotlib.pyplot as plt\n",
    "\n",
    "# Filter out infinite values\n",
    "filtered_data = [x for x in rd4['avg_action_verb'] if np.isfinite(x)]\n",
    "\n",
    "plt.hist(filtered_data, bins=50)\n",
    "plt.gca().set(title='Frequency Histogram', ylabel='Frequency', xlabel='Number of Action Verbs per Bullet Point for Each User')\n",
    "\n",
    "bar_positions = [1,2,3,4]  # Indices of the bars to label\n",
    "\n",
    "for position in bar_positions:\n",
    "    x_value = filtered_data[position]\n",
    "    count = plt.gca().patches[position].get_height()\n",
    "    label = round(x_value, 1)\n",
    "    plt.text(position, count, str(label), ha='center', va='bottom')\n",
    "\n",
    "plt.show()"
   ]
  },
  {
   "attachments": {},
   "cell_type": "markdown",
   "metadata": {},
   "source": [
    "## 3-5 No use of pronouns"
   ]
  },
  {
   "cell_type": "code",
   "execution_count": 98,
   "metadata": {},
   "outputs": [
    {
     "name": "stdout",
     "output_type": "stream",
     "text": [
      "['I', 'we', 'you', 'he', 'she', 'it', 'they', 'me', 'us', 'you', 'her', 'him', 'it', 'them', 'mine', 'ours', 'yours', 'hers', 'his', 'theirs', 'my', 'our', 'your', 'her', 'his', 'their', 'myself', 'yourself', 'herself', 'himself', 'itself', 'ourselves', 'yourselves', 'themselves']\n",
      "34\n"
     ]
    }
   ],
   "source": [
    "# Define a list of 34 pronouns\n",
    "pronouns = ''' I we you he she it they me us you her him it them mine ours yours hers his theirs my our your her his their myself yourself \n",
    "herself himself itself ourselves yourselves themselves'''\n",
    "pronoun_list = pronouns.split()\n",
    "\n",
    "# Convert each element to string\n",
    "pronoun_list = list(map(str, pronoun_list))  \n",
    "\n",
    "print(pronoun_list)\n",
    "print(len(pronoun_list))"
   ]
  },
  {
   "cell_type": "code",
   "execution_count": 99,
   "metadata": {},
   "outputs": [
    {
     "name": "stdout",
     "output_type": "stream",
     "text": [
      "Number of pronouns in each row:\n",
      "0         3\n",
      "1         1\n",
      "2         0\n",
      "3         2\n",
      "4         1\n",
      "         ..\n",
      "11971     0\n",
      "11972    11\n",
      "11973     0\n",
      "11974     8\n",
      "11975    12\n",
      "Length: 11976, dtype: int64\n"
     ]
    }
   ],
   "source": [
    "# Count the occurrences of pronouns in each row\n",
    "pronoun_count = rd4.apply(lambda row: sum(1 for pronoun in pronoun_list if any(re.findall(r'\\b{}\\b'.format(pronoun), str(row[column]), re.IGNORECASE) for column in rd4.columns)), axis=1)\n",
    "\n",
    "# Print the result\n",
    "print(\"Number of pronouns in each row:\")\n",
    "print(pronoun_count)"
   ]
  },
  {
   "cell_type": "code",
   "execution_count": 118,
   "metadata": {},
   "outputs": [
    {
     "name": "stdout",
     "output_type": "stream",
     "text": [
      "0 14 2.0 1.0 4.8 2.2\n"
     ]
    }
   ],
   "source": [
    "# Basic statistical characteristics of the verb_count variable\n",
    "import numpy as np\n",
    "\n",
    "min = np.amin(pronoun_count)\n",
    "max = np.amax(pronoun_count)\n",
    "mean = round(np.mean(pronoun_count),1)\n",
    "median = round(np.median(pronoun_count),1)\n",
    "variance = round(np.var(pronoun_count),1)\n",
    "sd = round(np.std(pronoun_count),1)\n",
    "\n",
    "print(min,max,mean,median,variance,sd)"
   ]
  },
  {
   "cell_type": "code",
   "execution_count": 117,
   "metadata": {},
   "outputs": [
    {
     "data": {
      "image/png": "[encoded data removed]",
      "text/plain": [
       "<Figure size 640x480 with 1 Axes>"
      ]
     },
     "metadata": {},
     "output_type": "display_data"
    }
   ],
   "source": [
    "# Add the variable to the data frame\n",
    "rd4['pronoun_count'] = pronoun_count\n",
    "\n",
    "# Plot a frequency historgram\n",
    "import matplotlib.pyplot as plt\n",
    "\n",
    "# Filter out infinite values\n",
    "filtered_data = [x for x in rd4['pronoun_count'] if np.isfinite(x)]\n",
    "\n",
    "plt.hist(filtered_data, bins=50)\n",
    "plt.gca().set(title='Frequency Histogram', ylabel='Frequency', xlabel='Number of Pronouns in Each User Resume')\n",
    "\n",
    "plt.show()"
   ]
  }
 ],
 "metadata": {
  "kernelspec": {
   "display_name": "base",
   "language": "python",
   "name": "python3"
  },
  "language_info": {
   "codemirror_mode": {
    "name": "ipython",
    "version": 3
   },
   "file_extension": ".py",
   "mimetype": "text/x-python",
   "name": "python",
   "nbconvert_exporter": "python",
   "pygments_lexer": "ipython3",
   "version": "3.10.9"
  },
  "orig_nbformat": 4
 },
 "nbformat": 4,
 "nbformat_minor": 2
}
